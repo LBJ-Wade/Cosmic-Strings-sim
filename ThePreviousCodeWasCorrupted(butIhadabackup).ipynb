{
 "cells": [
  {
   "cell_type": "code",
   "execution_count": 171,
   "metadata": {},
   "outputs": [],
   "source": [
    "%matplotlib inline \n",
    "from IPython.core.interactiveshell import InteractiveShell\n",
    "InteractiveShell.ast_node_interactivity = \"all\"\n",
    "from matplotlib import pyplot as plt\n",
    "import matplotlib.animation as animation\n",
    "from matplotlib.animation import FuncAnimation\n",
    "import numpy as np\n",
    "import matplotlib.animation\n",
    "from matplotlib.pyplot import plot, draw, imshow, show, close\n",
    "from IPython.display import clear_output\n",
    "from PIL import Image\n",
    "import math\n",
    "from random import random\n",
    "from random import seed\n",
    "from random import randint\n",
    "import time"
   ]
  },
  {
   "cell_type": "code",
   "execution_count": 226,
   "metadata": {},
   "outputs": [],
   "source": [
    "#display the plot\n",
    "def isingplot(A):\n",
    "    plt.ion()\n",
    "    #fig = plt.subplot(1,1,1)  \n",
    "    Image.fromarray(A)\n",
    "    plt.gray()\n",
    "    plt.imshow(A)\n",
    "    \n",
    "    plt.draw()\n",
    "    plt.pause(0.01)\n",
    "    #time.sleep(0.1)\n",
    "    #close('all')\n",
    "    \n",
    "def init():\n",
    "    im.set_data(np.zeros((len(A),len(A))))\n",
    "    return [im]\n",
    "                  \n",
    "def Laplacian(A):\n",
    "    h = len(A)\n",
    "    #CFL condition delta x => sqrt(D) delta t, where D is the number of dimensions\n",
    "    deltax = 1\n",
    "    deltat = 0.1              \n",
    "    P = np.zeros((h,h))\n",
    "    result = np.zeros((h,h))\n",
    "    \n",
    "    for i in range(0, h):\n",
    "        for j in range(0,h):\n",
    "            xx = (-A[(i+2)%h,j] + 16*A[(i+1)%h,j] - 30*A[i,j] + 16*A[(i-1)%h,j] -A[(i-2)%h,j])/(12*pow(deltax,2))\n",
    "            yy = (-A[i,(j+2)%h] + 16*A[i,(j+1)%h] - 30*A[i,j] + 16*A[i,(j-1)%h] -A[i,(j-2)%h])/(12*pow(deltax,2))\n",
    "            P[i,j] = xx + yy     \n",
    "    return P   \n",
    "\n",
    "def div_potential(A,omega,eta):\n",
    "    #omega = 15\n",
    "    lam = 2*pow(math.pi,2)/pow(omega,2)\n",
    "    pot = lam*A*(pow(A,2)-pow(eta,2))\n",
    "    return pot\n",
    "    \n",
    "def function(A,omega,eta):\n",
    "    F = np.subtract(Laplacian(A),div_potential(A,omega,eta))\n",
    "    return F\n",
    "\n",
    "def update(N,A,vel,omega,eta):\n",
    "    F = function(A,omega,eta)\n",
    "    A = A + deltat*(vel + 0.5*deltat*function(A,omega,eta)) \n",
    "    vel = vel + deltat/2*(F + function(A,omega,eta))\n",
    "    return A,vel\n",
    "\n",
    "\n",
    "\n",
    "def function_for_animation(frame_index):\n",
    "    \n",
    "    A = np.random.normal(mu, sigma, size=(N, N))\n",
    "    vel = np.zeros((N,N))\n",
    "    A,vel = update(N,A,vel,omega,eta)\n",
    "    #im = A\n",
    "    image.set_data(A)\n",
    "    ax.set_title(str(frame_index))\n",
    "    return image,\n",
    "    \n"
   ]
  },
  {
   "cell_type": "code",
   "execution_count": 228,
   "metadata": {},
   "outputs": [
    {
     "data": {
      "image/png": "[encoded data removed]",
      "text/plain": [
       "<Figure size 432x288 with 1 Axes>"
      ]
     },
     "metadata": {
      "needs_background": "light"
     },
     "output_type": "display_data"
    }
   ],
   "source": [
    "f = plt.figure()\n",
    "ax = f.gca()\n",
    "\n",
    "image = plt.imshow(im, interpolation='None', animated=True)\n",
    "A = np.random.normal(mu, sigma, size=(N, N))\n",
    "\n",
    "n = 5\n",
    "deltax = 1\n",
    "deltat = 0.1\n",
    "eta = 3\n",
    "N = pow(2,n)\n",
    "t = 0.5*N*deltax/deltat\n",
    "vel = np.zeros((N,N))\n",
    "aa = round(t/deltat)\n",
    "mu, sigma = 0, 0.1 # mean and standard deviation\n",
    "omega = 5\n",
    "def function_for_animation(frame_index):\n",
    "    \n",
    "    A = np.random.normal(mu, sigma, size=(N, N))\n",
    "    vel = np.zeros((N,N))\n",
    "    A,vel = update(N,A,vel,omega,eta)\n",
    "    #im = A\n",
    "    image.set_data(A)\n",
    "    ax.set_title(str(frame_index))\n",
    "    return image,\n",
    "\n",
    "ani = matplotlib.animation.FuncAnimation(f, function_for_animation, interval=200, frames=np.linspace(0,t,aa), blit=True)\n",
    "#print(A)\n",
    "#isingplot(A)"
   ]
  },
  {
   "cell_type": "code",
   "execution_count": null,
   "metadata": {},
   "outputs": [],
   "source": []
  },
  {
   "cell_type": "code",
   "execution_count": 5,
   "metadata": {},
   "outputs": [
    {
     "data": {
      "text/plain": [
       "<Figure size 432x288 with 0 Axes>"
      ]
     },
     "metadata": {},
     "output_type": "display_data"
    },
    {
     "name": "stdout",
     "output_type": "stream",
     "text": [
      "[[-3.22028193 -3.4533075  -3.77740912 ... -3.56449202 -3.41932498\n",
      "  -2.60770916]\n",
      " [-3.28389172 -3.33778653 -2.61742747 ... -4.29976122 -3.26221641\n",
      "  -2.75371481]\n",
      " [-4.08469207 -3.54628387 -2.9150186  ... -3.60155678 -3.02842726\n",
      "  -3.53524433]\n",
      " ...\n",
      " [-2.2728995  -3.62443617 -2.85712917 ... -0.9197952  -1.65880538\n",
      "  -2.31657246]\n",
      " [-1.48993484 -2.52334668 -3.0953119  ... -2.2764077  -2.244815\n",
      "  -2.3334982 ]\n",
      " [-3.16301714 -3.15431154 -3.6311216  ... -2.02505486 -1.77392249\n",
      "  -2.62517704]]\n"
     ]
    },
    {
     "data": {
      "image/png": "[encoded data removed]",
      "text/plain": [
       "<Figure size 432x288 with 1 Axes>"
      ]
     },
     "metadata": {
      "needs_background": "light"
     },
     "output_type": "display_data"
    },
    {
     "data": {
      "image/png": "[encoded data removed]",
      "text/plain": [
       "<Figure size 432x288 with 1 Axes>"
      ]
     },
     "metadata": {
      "needs_background": "light"
     },
     "output_type": "display_data"
    }
   ],
   "source": [
    "omega = 15\n",
    "for e in range(0,1):\n",
    "    A = np.random.normal(mu, sigma, size=(N, N))\n",
    "    isingplot(A)\n",
    "    A = wolff(N,t,A,vel,omega,eta)\n",
    "    print(A)\n",
    "    isingplot(A)"
   ]
  },
  {
   "cell_type": "code",
   "execution_count": 6,
   "metadata": {},
   "outputs": [
    {
     "data": {
      "text/plain": [
       "<Figure size 432x288 with 0 Axes>"
      ]
     },
     "metadata": {},
     "output_type": "display_data"
    },
    {
     "name": "stdout",
     "output_type": "stream",
     "text": [
      "[[-0.13049523 -0.14716975 -0.37187192 ...  0.01311789  0.20733073\n",
      "   0.01339727]\n",
      " [ 0.03488117  0.09260453 -0.16128633 ...  0.3922723   0.17340389\n",
      "  -0.00599242]\n",
      " [ 0.25946853  0.01572491  0.03646419 ...  0.52303635  0.50981136\n",
      "   0.2037387 ]\n",
      " ...\n",
      " [-0.32462759 -0.2808623  -0.27497946 ... -0.10140185 -0.03150886\n",
      "  -0.14076857]\n",
      " [-0.27948321 -0.44824307 -0.28218874 ... -0.00888067 -0.09090899\n",
      "  -0.19489886]\n",
      " [-0.17392688 -0.25496545 -0.28072074 ... -0.03312365  0.03380884\n",
      "  -0.23834278]]\n"
     ]
    },
    {
     "data": {
      "image/png": "[encoded data removed]",
      "text/plain": [
       "<Figure size 432x288 with 1 Axes>"
      ]
     },
     "metadata": {
      "needs_background": "light"
     },
     "output_type": "display_data"
    },
    {
     "data": {
      "image/png": "[encoded data removed]",
      "text/plain": [
       "<Figure size 432x288 with 1 Axes>"
      ]
     },
     "metadata": {
      "needs_background": "light"
     },
     "output_type": "display_data"
    }
   ],
   "source": [
    "omega = 15\n",
    "eta = 1\n",
    "for e in range(0,1):\n",
    "    A = np.random.normal(mu, sigma, size=(N, N))\n",
    "    isingplot(A)\n",
    "    A = wolff(N,t,A,vel,omega,eta)\n",
    "    print(A)\n",
    "    isingplot(A)"
   ]
  },
  {
   "cell_type": "code",
   "execution_count": null,
   "metadata": {},
   "outputs": [],
   "source": []
  },
  {
   "cell_type": "code",
   "execution_count": null,
   "metadata": {},
   "outputs": [],
   "source": []
  },
  {
   "cell_type": "code",
   "execution_count": 7,
   "metadata": {},
   "outputs": [
    {
     "data": {
      "text/plain": [
       "<Figure size 432x288 with 0 Axes>"
      ]
     },
     "metadata": {},
     "output_type": "display_data"
    },
    {
     "name": "stdout",
     "output_type": "stream",
     "text": [
      "(64,)\n",
      "(0,)\n"
     ]
    },
    {
     "data": {
      "image/png": "[encoded data removed]",
      "text/plain": [
       "<Figure size 432x288 with 1 Axes>"
      ]
     },
     "metadata": {
      "needs_background": "light"
     },
     "output_type": "display_data"
    },
    {
     "name": "stdout",
     "output_type": "stream",
     "text": [
      "(0,)\n",
      "(64,)\n"
     ]
    },
    {
     "data": {
      "image/png": "[encoded data removed]",
      "text/plain": [
       "<Figure size 432x288 with 1 Axes>"
      ]
     },
     "metadata": {
      "needs_background": "light"
     },
     "output_type": "display_data"
    },
    {
     "name": "stdout",
     "output_type": "stream",
     "text": [
      "(32,)\n",
      "(32,)\n"
     ]
    },
    {
     "data": {
      "image/png": "[encoded data removed]",
      "text/plain": [
       "<Figure size 432x288 with 1 Axes>"
      ]
     },
     "metadata": {
      "needs_background": "light"
     },
     "output_type": "display_data"
    },
    {
     "name": "stdout",
     "output_type": "stream",
     "text": [
      "(0,)\n",
      "(64,)\n"
     ]
    },
    {
     "data": {
      "image/png": "[encoded data removed]",
      "text/plain": [
       "<Figure size 432x288 with 1 Axes>"
      ]
     },
     "metadata": {
      "needs_background": "light"
     },
     "output_type": "display_data"
    },
    {
     "name": "stdout",
     "output_type": "stream",
     "text": [
      "(64,)\n",
      "(0,)\n"
     ]
    },
    {
     "data": {
      "image/png": "[encoded data removed]",
      "text/plain": [
       "<Figure size 432x288 with 1 Axes>"
      ]
     },
     "metadata": {
      "needs_background": "light"
     },
     "output_type": "display_data"
    },
    {
     "name": "stdout",
     "output_type": "stream",
     "text": [
      "(64,)\n",
      "(0,)\n"
     ]
    },
    {
     "data": {
      "image/png": "[encoded data removed]",
      "text/plain": [
       "<Figure size 432x288 with 1 Axes>"
      ]
     },
     "metadata": {
      "needs_background": "light"
     },
     "output_type": "display_data"
    },
    {
     "name": "stdout",
     "output_type": "stream",
     "text": [
      "(42,)\n",
      "(22,)\n"
     ]
    },
    {
     "data": {
      "image/png": "[encoded data removed]",
      "text/plain": [
       "<Figure size 432x288 with 1 Axes>"
      ]
     },
     "metadata": {
      "needs_background": "light"
     },
     "output_type": "display_data"
    },
    {
     "name": "stdout",
     "output_type": "stream",
     "text": [
      "(0,)\n",
      "(64,)\n"
     ]
    },
    {
     "data": {
      "image/png": "[encoded data removed]",
      "text/plain": [
       "<Figure size 432x288 with 1 Axes>"
      ]
     },
     "metadata": {
      "needs_background": "light"
     },
     "output_type": "display_data"
    },
    {
     "name": "stdout",
     "output_type": "stream",
     "text": [
      "(53,)\n",
      "(11,)\n"
     ]
    },
    {
     "data": {
      "image/png": "[encoded data removed]",
      "text/plain": [
       "<Figure size 432x288 with 1 Axes>"
      ]
     },
     "metadata": {
      "needs_background": "light"
     },
     "output_type": "display_data"
    },
    {
     "name": "stdout",
     "output_type": "stream",
     "text": [
      "(18,)\n",
      "(46,)\n"
     ]
    },
    {
     "data": {
      "image/png": "[encoded data removed]",
      "text/plain": [
       "<Figure size 432x288 with 1 Axes>"
      ]
     },
     "metadata": {
      "needs_background": "light"
     },
     "output_type": "display_data"
    },
    {
     "name": "stdout",
     "output_type": "stream",
     "text": [
      "(64,)\n",
      "(0,)\n"
     ]
    },
    {
     "data": {
      "image/png": "[encoded data removed]",
      "text/plain": [
       "<Figure size 432x288 with 1 Axes>"
      ]
     },
     "metadata": {
      "needs_background": "light"
     },
     "output_type": "display_data"
    },
    {
     "name": "stdout",
     "output_type": "stream",
     "text": [
      "(56,)\n",
      "(8,)\n"
     ]
    },
    {
     "data": {
      "image/png": "[encoded data removed]",
      "text/plain": [
       "<Figure size 432x288 with 1 Axes>"
      ]
     },
     "metadata": {
      "needs_background": "light"
     },
     "output_type": "display_data"
    },
    {
     "name": "stdout",
     "output_type": "stream",
     "text": [
      "(21,)\n",
      "(43,)\n"
     ]
    },
    {
     "data": {
      "image/png": "[encoded data removed]",
      "text/plain": [
       "<Figure size 432x288 with 1 Axes>"
      ]
     },
     "metadata": {
      "needs_background": "light"
     },
     "output_type": "display_data"
    },
    {
     "name": "stdout",
     "output_type": "stream",
     "text": [
      "(16,)\n",
      "(48,)\n"
     ]
    },
    {
     "data": {
      "image/png": "[encoded data removed]",
      "text/plain": [
       "<Figure size 432x288 with 1 Axes>"
      ]
     },
     "metadata": {
      "needs_background": "light"
     },
     "output_type": "display_data"
    },
    {
     "name": "stdout",
     "output_type": "stream",
     "text": [
      "(23,)\n",
      "(41,)\n"
     ]
    },
    {
     "data": {
      "image/png": "[encoded data removed]",
      "text/plain": [
       "<Figure size 432x288 with 1 Axes>"
      ]
     },
     "metadata": {
      "needs_background": "light"
     },
     "output_type": "display_data"
    },
    {
     "name": "stdout",
     "output_type": "stream",
     "text": [
      "(47,)\n",
      "(17,)\n"
     ]
    },
    {
     "data": {
      "image/png": "[encoded data removed]",
      "text/plain": [
       "<Figure size 432x288 with 1 Axes>"
      ]
     },
     "metadata": {
      "needs_background": "light"
     },
     "output_type": "display_data"
    },
    {
     "name": "stdout",
     "output_type": "stream",
     "text": [
      "(39,)\n",
      "(25,)\n"
     ]
    },
    {
     "data": {
      "image/png": "[encoded data removed]",
      "text/plain": [
       "<Figure size 432x288 with 1 Axes>"
      ]
     },
     "metadata": {
      "needs_background": "light"
     },
     "output_type": "display_data"
    },
    {
     "name": "stdout",
     "output_type": "stream",
     "text": [
      "(31,)\n",
      "(33,)\n"
     ]
    },
    {
     "data": {
      "image/png": "[encoded data removed]",
      "text/plain": [
       "<Figure size 432x288 with 1 Axes>"
      ]
     },
     "metadata": {
      "needs_background": "light"
     },
     "output_type": "display_data"
    },
    {
     "name": "stdout",
     "output_type": "stream",
     "text": [
      "(17,)\n",
      "(47,)\n"
     ]
    },
    {
     "data": {
      "image/png": "[encoded data removed]",
      "text/plain": [
       "<Figure size 432x288 with 1 Axes>"
      ]
     },
     "metadata": {
      "needs_background": "light"
     },
     "output_type": "display_data"
    },
    {
     "name": "stdout",
     "output_type": "stream",
     "text": [
      "(0,)\n",
      "(64,)\n"
     ]
    },
    {
     "data": {
      "image/png": "[encoded data removed]",
      "text/plain": [
       "<Figure size 432x288 with 1 Axes>"
      ]
     },
     "metadata": {
      "needs_background": "light"
     },
     "output_type": "display_data"
    }
   ],
   "source": [
    "n = 3\n",
    "N = pow(2,n)\n",
    "vel = np.zeros((N,N))\n",
    "for i in range(0,20):\n",
    "    A = np.random.normal(mu, sigma, size=(N, N))\n",
    "    A = wolff(N,t,A,vel,omega,eta)\n",
    "    isingplot(A)\n",
    "    print(np.shape(A[np.where(A>0)]))\n",
    "    print(np.shape(A[np.where(A<0)]))"
   ]
  },
  {
   "cell_type": "code",
   "execution_count": null,
   "metadata": {},
   "outputs": [],
   "source": []
  }
 ],
 "metadata": {
  "kernelspec": {
   "display_name": "Python 3",
   "language": "python",
   "name": "python3"
  },
  "language_info": {
   "codemirror_mode": {
    "name": "ipython",
    "version": 3
   },
   "file_extension": ".py",
   "mimetype": "text/x-python",
   "name": "python",
   "nbconvert_exporter": "python",
   "pygments_lexer": "ipython3",
   "version": "3.8.3"
  }
 },
 "nbformat": 4,
 "nbformat_minor": 4
}
