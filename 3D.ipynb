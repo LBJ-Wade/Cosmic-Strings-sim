{
 "cells": [
  {
   "cell_type": "code",
   "execution_count": 84,
   "id": "7e70cd74",
   "metadata": {},
   "outputs": [],
   "source": [
    "%matplotlib inline\n",
    "from matplotlib import pyplot as plt\n",
    "import numpy as np\n",
    "import matplotlib \n",
    "from PIL import Image\n",
    "import math\n",
    "from random import random\n",
    "from random import seed\n",
    "from random import randint\n",
    "import time\n",
    "from numba import jit\n",
    "from mpl_toolkits.mplot3d import Axes3D\n",
    "\n",
    "\n",
    "from matplotlib.colors import LinearSegmentedColormap\n",
    "import functools\n",
    "import itertools as IT\n",
    "import scipy.ndimage as ndimage\n",
    "import matplotlib.cm as cm"
   ]
  },
  {
   "cell_type": "code",
   "execution_count": 104,
   "id": "57033e2e",
   "metadata": {},
   "outputs": [],
   "source": [
    "# comoving but the strings stay put (ideal for radiation or matter)\n",
    "\n",
    "def cartesian_product_broadcasted(*arrays):\n",
    "    \"\"\"\n",
    "    http://stackoverflow.com/a/11146645/190597 (senderle)\n",
    "    \"\"\"\n",
    "    broadcastable = np.ix_(*arrays)\n",
    "    broadcasted = np.broadcast_arrays(*broadcastable)\n",
    "    dtype = np.result_type(*arrays)\n",
    "    rows, cols = functools.reduce(np.multiply, broadcasted[0].shape), len(broadcasted)\n",
    "    out = np.empty(rows * cols, dtype=dtype)\n",
    "    start, end = 0, rows\n",
    "    for a in broadcasted:\n",
    "        out[start:end] = a.reshape(-1)\n",
    "        start, end = end, end + rows\n",
    "    return out.reshape(cols, rows).T\n",
    "\n",
    "@jit(nopython = True)\n",
    "def Laplacian(A,deltax,deltat):\n",
    "\n",
    "    h = len(A)\n",
    "    #CFL condition delta x => sqrt(D) delta t, where D is the number of dimensions            \n",
    "    P = np.zeros((h,h,h))\n",
    "    result = np.zeros((h,h,h))\n",
    "\n",
    "  \n",
    "    for i in range(0, h):\n",
    "        for j in range(0,h):\n",
    "            for k in range(0,h):\n",
    "                P[i,j,k] = (A[(i-1)%h,(j-1)%h,(k-1)%h] + 3*A[(i-1)%h,j,(k-1)%h] + A[(i-1)%h,(j+1)%h,(k-1)%h] \\\n",
    "                + 3*A[(i-1)%h,(j-1)%h,k] + 14*A[(i-1)%h,j,k] + 3*A[(i-1)%h,(j+1)%h,k] \\\n",
    "                + A[(i-1)%h,(j-1)%h,(k+1)%h] + 3*A[(i-1)%h,j,(k+1)%h] + A[(i-1)%h,(j+1)%h,(k+1)%h] \\\n",
    "                + 3*A[i,(j-1)%h,(k-1)%h] + 14*A[i,j,(k-1)%h] + 3*A[i,(j+1)%h,(k-1)%h] \\\n",
    "                + 14*A[i,(j-1)%h,k] - 128*A[i,j,k] + 14*A[i,(j+1)%h,k] \\\n",
    "                + 3*A[i,(j-1)%h,(k+1)%h] + 14*A[i,j,(k+1)%h] + 3*A[i,(j+1)%h,(k+1)%h] \\\n",
    "                + A[(i+1)%h,(j-1)%h,(k-1)%h] + 3*A[(i+1)%h,j,(k-1)%h] + A[(i+1)%h,(j+1)%h,(k-1)%h] \\\n",
    "                + 3*A[(i+1)%h,(j-1)%h,k] + 14*A[(i+1)%h,j,k] + 3*A[(i+1)%h,(j+1)%h,k] \\\n",
    "                + A[(i+1)%h,(j-1)%h,(k+1)%h] + 3*A[(i+1)%h,j,(k+1)%h] + A[(i+1)%h,(j+1)%h,(k+1)%h])/(30*pow(deltax,2))\n",
    "    return P \n",
    "\n",
    "\n",
    "\n",
    "def update(N,A1,A2,vel1,vel2,omega,eta,deltax,deltat,a,time):\n",
    "    H_0 = 2.18e-18\n",
    "    a = np.sqrt(2*H_0)*np.sqrt(time)\n",
    "    #a = H_0 ** (2/3) * time ** (2/3)\n",
    "    beta = 0\n",
    "    alpha = 3\n",
    "    era = 1 #radiation\n",
    "    #era = 2 #matter\n",
    "\n",
    "    lam = 2*pow(math.pi,2)/pow(omega,2)\n",
    "    \n",
    "\n",
    "    \n",
    "    F1 = Laplacian(A1,deltax,deltat) - a**beta * lam*A1*(pow(A1,2)+pow(A2,2)-pow(eta,2))-alpha*era*vel1\n",
    "    F2 = Laplacian(A2,deltax,deltat) - a**beta * lam*A2*(pow(A1,2)+pow(A2,2)-pow(eta,2))-alpha*era*vel2\n",
    "    \n",
    "    time = time + deltat\n",
    "    \n",
    "    a1 = np.sqrt(2*H_0)*np.sqrt(time)\n",
    "    \n",
    "\n",
    "    \n",
    "    A1 = A1 + deltat*(vel1 + 0.5*deltat*F1) \n",
    "    A2 = A2 + deltat*(vel2 + 0.5*deltat*F2) \n",
    "\n",
    "    \n",
    "    vel1 = vel1 + deltat/2*(F1 + Laplacian(A1,deltax,deltat) - a1**beta *lam*A1*(pow(A1,2)+pow(A2,2)-pow(eta,2)) -alpha*era*vel1) \n",
    "    vel2 = vel2 + deltat/2*(F2 + Laplacian(A2,deltax,deltat) - a1**beta *lam*A2*(pow(A1,2)+pow(A2,2)-pow(eta,2)) -alpha*era*vel2)\n",
    "    \n",
    "    \n",
    "    return A1,A2,vel1,vel2,a,time\n",
    "    \n",
    "#change the values accordlingly    \n",
    "def wolff(N,t0,t,A1,A2,vel,omega,eta,deltax,deltat):\n",
    "\n",
    "    time = t0\n",
    "    a = 0\n",
    "\n",
    "    vel1 = vel\n",
    "    vel2 = vel\n",
    "    \n",
    "\n",
    "    fig = plt.figure(figsize=(50,50))\n",
    "    ax = fig.add_subplot(1, 1, 1, projection='3d')\n",
    "    ax.set_axis_off()\n",
    "    size = N\n",
    "    x, y, z = cartesian_product_broadcasted(*[np.arange(size, dtype='int16')]*3).T\n",
    "    mask = ((x == 0) | (x == size-1) \n",
    "            | (y == 0) | (y == size-1) \n",
    "            | (z == 0) | (z == size-1))\n",
    "    x = x[mask]\n",
    "    y = y[mask]\n",
    "    z = z[mask]\n",
    "    color_map = plt.cm.get_cmap('Greys')\n",
    "    reversed_color_map = color_map.reversed()\n",
    "\n",
    "\n",
    "\n",
    "    for i in np.arange(int(t/deltat)):\n",
    "        time = round(time,1)\n",
    "        \n",
    "        if time % 1 == 0:\n",
    "            \n",
    "            mod = np.sqrt(pow(A1,2)+pow(A2,2))\n",
    "            mod = mod.ravel()[mask]\n",
    "            #angle = np.arctan2(A2,A1)\n",
    "            #angle = angle.ravel()[mask]\n",
    "            \n",
    "            ax.scatter(x, y, z, c=mod, cmap=reversed_color_map,vmin = 0, vmax = eta)\n",
    "            plt.savefig('958/'+str(int(time)).zfill(3)+'.png')\n",
    "    \n",
    "            \n",
    "            \n",
    "            #ax.scatter(x, y, z, c=mod, cmap=plt.get_cmap('rainbow_alpha'),vmin = 0, vmax = eta)\n",
    "            #plt.savefig('961/'+str(int(time)).zfill(3)+'.png')\n",
    "            \n",
    "            #plt.imsave('958/'+str(int(time)).zfill(3)+'.png',np.sqrt(pow(A1,2)+pow(A2,2)),vmin = 0, vmax = eta,cmap = 'Greys')\n",
    "            #plt.imsave('961/'+str(int(time)).zfill(3)+'.png',np.arctan2(A2,A1),vmin = -1*math.pi, vmax = math.pi,cmap = 'twilight')\n",
    "\n",
    "            \n",
    "        A1,A2,vel1,vel2,a,time = update(N,A1,A2,vel1,vel2,omega,eta,deltax,deltat,a,time)\n",
    "\n",
    "\n",
    "    return A1,A2"
   ]
  },
  {
   "cell_type": "code",
   "execution_count": null,
   "id": "b32ed09a",
   "metadata": {},
   "outputs": [],
   "source": []
  },
  {
   "cell_type": "code",
   "execution_count": null,
   "id": "910da1fa",
   "metadata": {},
   "outputs": [
    {
     "name": "stdout",
     "output_type": "stream",
     "text": [
      "1280.0\n"
     ]
    }
   ],
   "source": [
    "start = time.time()\n",
    "\n",
    "\n",
    "n = 8\n",
    "deltax = 1\n",
    "deltat = 0.1\n",
    "eta = 1\n",
    "N = pow(2,n)\n",
    "t = 0.5*N*deltax/deltat # light crossing time\n",
    "t0 = 0.1\n",
    "t2 = t/2 # half time\n",
    "t5 = t/5\n",
    "t10 = t/10 # 1/10 of the ligth crossing time\n",
    "\n",
    "vel = np.zeros((N,N,N))\n",
    "mu, sigma = 0, 0.1 # mean and standard deviation\n",
    "omega = 5\n",
    "\n",
    "print(t)\n",
    "\n",
    "\n",
    "\n",
    "A1 = np.random.normal(mu, sigma, size=(N,N,N))\n",
    "A2 = np.random.normal(mu,sigma,size=(N,N,N))\n",
    "\n",
    "A1,A2 = wolff(N,t0,t5,A1,A2,vel,omega,eta,deltax,deltat)\n",
    "\n",
    "end = time.time()\n",
    "print(end - start)"
   ]
  },
  {
   "cell_type": "code",
   "execution_count": 97,
   "id": "d97a86d9",
   "metadata": {},
   "outputs": [
    {
     "name": "stderr",
     "output_type": "stream",
     "text": [
      "<ipython-input-97-3773a2080020>:12: UserWarning: Trying to register the cmap 'rainbow_alpha' which already exists.\n",
      "  plt.register_cmap(cmap=map_object)\n"
     ]
    }
   ],
   "source": [
    "\n",
    "# get colormap\n",
    "ncolors = 256\n",
    "color_array = plt.get_cmap('Greys')(range(ncolors))\n",
    "\n",
    "# change alpha values\n",
    "color_array[:,-1] = np.linspace(1.0,0.0,ncolors)\n",
    "\n",
    "# create a colormap object\n",
    "map_object = LinearSegmentedColormap.from_list(name='rainbow_alpha',colors=color_array)\n",
    "\n",
    "# register this new colormap with matplotlib\n",
    "plt.register_cmap(cmap=map_object)"
   ]
  },
  {
   "cell_type": "code",
   "execution_count": null,
   "id": "903550e1",
   "metadata": {},
   "outputs": [],
   "source": []
  },
  {
   "cell_type": "code",
   "execution_count": 80,
   "id": "5ec26603",
   "metadata": {},
   "outputs": [
    {
     "data": {
      "image/png": "[encoded data removed]",
      "text/plain": [
       "<Figure size 432x288 with 2 Axes>"
      ]
     },
     "metadata": {
      "needs_background": "light"
     },
     "output_type": "display_data"
    }
   ],
   "source": [
    "x = np.linspace(1,25,25)\n",
    "y = x\n",
    "\n",
    "plt.scatter(x, y, cmap=reversed_color_map, vmin = 1,vmax = 25)\n",
    "\n",
    "colorbar = plt.colorbar()"
   ]
  },
  {
   "cell_type": "code",
   "execution_count": 81,
   "id": "d6de1e32",
   "metadata": {},
   "outputs": [
    {
     "data": {
      "image/png": "[encoded data removed]",
      "text/plain": [
       "<Figure size 432x288 with 2 Axes>"
      ]
     },
     "metadata": {
      "needs_background": "light"
     },
     "output_type": "display_data"
    }
   ],
   "source": [
    "plt.scatter(x, y, cmap=plt.get_cmap('rainbow_alpha'), vmin = 1,vmax = 25)\n",
    "\n",
    "colorbar = plt.colorbar()"
   ]
  },
  {
   "cell_type": "code",
   "execution_count": 91,
   "id": "204919dd",
   "metadata": {},
   "outputs": [
    {
     "data": {
      "text/plain": [
       "<matplotlib.collections.PathCollection at 0x7efd85f44ee0>"
      ]
     },
     "execution_count": 91,
     "metadata": {},
     "output_type": "execute_result"
    },
    {
     "data": {
      "image/png": "[encoded data removed]",
      "text/plain": [
       "<Figure size 432x288 with 1 Axes>"
      ]
     },
     "metadata": {
      "needs_background": "light"
     },
     "output_type": "display_data"
    }
   ],
   "source": [
    "color_map = plt.cm.get_cmap('Greys')\n",
    "plt.scatter(x, y, cmap=color_map, vmin=0,vmax=25)"
   ]
  },
  {
   "cell_type": "code",
   "execution_count": null,
   "id": "9b9f3fda",
   "metadata": {},
   "outputs": [],
   "source": []
  }
 ],
 "metadata": {
  "kernelspec": {
   "display_name": "Python 3",
   "language": "python",
   "name": "python3"
  },
  "language_info": {
   "codemirror_mode": {
    "name": "ipython",
    "version": 3
   },
   "file_extension": ".py",
   "mimetype": "text/x-python",
   "name": "python",
   "nbconvert_exporter": "python",
   "pygments_lexer": "ipython3",
   "version": "3.8.5"
  }
 },
 "nbformat": 4,
 "nbformat_minor": 5
}
