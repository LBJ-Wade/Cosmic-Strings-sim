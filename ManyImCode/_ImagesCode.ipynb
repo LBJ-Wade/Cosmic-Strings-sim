{
 "cells": [
  {
   "cell_type": "code",
   "execution_count": 3,
   "metadata": {},
   "outputs": [],
   "source": [
    "%matplotlib inline\n",
    "from matplotlib import pyplot as plt\n",
    "import numpy as np\n",
    "import matplotlib \n",
    "from PIL import Image\n",
    "import PIL\n",
    "import math\n",
    "from random import random\n",
    "from random import seed\n",
    "from random import randint\n",
    "import time\n",
    "from numba import jit\n",
    "import skimage"
   ]
  },
  {
   "cell_type": "code",
   "execution_count": null,
   "metadata": {},
   "outputs": [],
   "source": []
  },
  {
   "cell_type": "code",
   "execution_count": 8,
   "metadata": {},
   "outputs": [],
   "source": [
    "#numpy.roll\n",
    "#from numba import jit\n",
    "\n",
    "@jit(nopython = True)\n",
    "    \n",
    "def Laplacian(A,deltax,deltat):\n",
    "\n",
    "    h = len(A)\n",
    "    #CFL condition delta x => sqrt(D) delta t, where D is the number of dimensions            \n",
    "    P = np.zeros((h,h))\n",
    "    result = np.zeros((h,h))\n",
    "    \n",
    "    for i in range(0, h):\n",
    "        for j in range(0,h):\n",
    "            P[i,j] = (-A[(i+2)%h,j] + 16*A[(i+1)%h,j] + 16*A[(i-1)%h,j] -A[(i-2)%h,j] \\\n",
    "                 -A[i,(j+2)%h] + 16*A[i,(j+1)%h]  + 16*A[i,(j-1)%h] -A[i,(j-2)%h] - 60*A[i,j])/(12*pow(deltax,2))\n",
    "\n",
    "  \n",
    "    return P \n",
    "\n",
    "def damping(t,K_damp):\n",
    "    Damping = np.zeros(shape=int(t/deltat))\n",
    "    Damping[0:200] = 1*K_damp\n",
    "    return Damping\n",
    "\n",
    "def div_potential(A,omega,eta):\n",
    "    #omega = 15\n",
    "    lam = 2*pow(math.pi,2)/pow(omega,2)\n",
    "    pot = lam*A*(pow(A,2)-pow(eta,2))\n",
    "    return pot\n",
    "    \n",
    "def function(A,vel,omega,eta,deltax,deltat,index,Damping):\n",
    "    F = np.subtract(Laplacian(A,deltax,deltat),div_potential(A,omega,eta)) - Damping[int(index)]*vel\n",
    "    return F\n",
    "\n",
    "def update(N,A,vel,omega,eta,deltax,deltat,index,Damping):\n",
    "    F = function(A,vel,omega,eta,deltax,deltat,index,Damping)\n",
    "    A = A + deltat*(vel + 0.5*deltat*function(A,vel,omega,eta,deltax,deltat,index,Damping)) \n",
    "    vel = vel + deltat/2*(F + function(A,vel,omega,eta,deltax,deltat,index,Damping))\n",
    "    return A,vel\n",
    "    \n",
    "#change the values accordlingly    \n",
    "def wolff(N,t,A,vel,omega,eta,deltax,deltat,K_damp):\n",
    "    Damping = damping(t,K_damp)\n",
    "\n",
    "    \n",
    "    for i in np.arange(int(t/deltat)):\n",
    "        plt.imsave(str(round((i*deltat),1))+'.png',A,vmin = -eta, vmax = eta,cmap = 'Greys')\n",
    "        plt.imsave(str(round((i*deltat),1))+'a.png',pow(A,2),vmin = 0, vmax = eta,cmap = 'Greys')\n",
    "        \n",
    "        A,vel = update(N,A,vel,omega,eta,deltax,deltat,i,Damping)\n",
    "\n",
    "        \n",
    "\n",
    "    return A\n",
    "\n",
    "\n"
   ]
  },
  {
   "cell_type": "code",
   "execution_count": 9,
   "metadata": {},
   "outputs": [
    {
     "name": "stdout",
     "output_type": "stream",
     "text": [
      "91.56630182266235\n"
     ]
    }
   ],
   "source": [
    "start = time.time()\n",
    "\n",
    "\n",
    "K_damp = 1\n",
    "n = 7\n",
    "deltax = 1\n",
    "deltat = 0.1\n",
    "eta = 1\n",
    "N = pow(2,n)\n",
    "t = int(0.5*N*deltax/deltat)\n",
    "vel = np.zeros((N,N))\n",
    "mu, sigma = 0, 0.1 # mean and standard deviation\n",
    "omega = 5\n",
    "\n",
    "A = np.random.normal(mu, sigma, size=(N, N))\n",
    "\n",
    "A = wolff(N,t,A,vel,omega,eta,deltax,deltat,K_damp)\n",
    "\n",
    "end = time.time()\n",
    "print(end - start)"
   ]
  },
  {
   "cell_type": "code",
   "execution_count": null,
   "metadata": {},
   "outputs": [],
   "source": [
    "\"\"\"        im = Image.fromarray(A)\n",
    "    \n",
    "        size = tuple((np.array(im.size) * 4).astype(int))\n",
    "        c = np.array(im.resize(size, PIL.Image.BICUBIC))\n",
    "\n",
    "        plt.imsave(str(round((i*deltat),1))+'.png',c,vmin = -eta, vmax = eta,cmap = 'Greys')\"\"\"\n",
    "        "
   ]
  },
  {
   "cell_type": "code",
   "execution_count": 37,
   "metadata": {},
   "outputs": [
    {
     "name": "stdout",
     "output_type": "stream",
     "text": [
      "56.127275228500366\n"
     ]
    }
   ],
   "source": [
    "def Laplacian(A,deltax,deltat):\n",
    "\n",
    "    #CFL condition delta x => sqrt(D) delta t, where D is the number of dimensions           \n",
    "\n",
    "    \n",
    "    Ax1 = np.roll(A,1,axis=0)\n",
    "    Ax2 = np.roll(A,2,axis=0)\n",
    "    Ax_1 = np.roll(A,-1,axis=0)\n",
    "    Ax_2 = np.roll(A,-2,axis=0)\n",
    "    \n",
    "    Ay1 = np.roll(A,1,axis=1)\n",
    "    Ay2 = np.roll(A,2,axis=1)\n",
    "    Ay_1 = np.roll(A,-1,axis=1)\n",
    "    Ay_2 = np.roll(A,-2,axis=1)\n",
    "    \n",
    "    P = (-Ax2 + 16*Ax1 + 16*Ax_1 - Ax_2 - Ay2 + 16*Ay1 + 16*Ay_1 - Ay_2 - 60*A)/(12*pow(deltax,2))\n",
    "    \n",
    "  \n",
    "    return P\n",
    "\n",
    "\n",
    "#numpy.roll\n",
    "\n",
    "\n",
    "start = time.time()\n",
    "\n",
    "n = 7\n",
    "deltax = 1\n",
    "deltat = 0.1\n",
    "eta = 1\n",
    "N = pow(2,n)\n",
    "t = 0.5*N*deltax/deltat\n",
    "vel = np.zeros((N,N))\n",
    "mu, sigma = 0, 0.1 # mean and standard deviation\n",
    "omega = 5\n",
    "\n",
    "A = np.random.normal(mu, sigma, size=(N, N))\n",
    "\n",
    "A = wolff(N,t,A,vel,omega,eta,deltax,deltat,K_damp)\n",
    "\n",
    "end = time.time()\n",
    "print(end - start)"
   ]
  },
  {
   "cell_type": "code",
   "execution_count": null,
   "metadata": {},
   "outputs": [],
   "source": [
    "#change the values accordlingly    \n",
    "def wolfff(N,t,A,vel,omega,eta,deltax,deltat,K_damp):\n",
    "    damping = damping(t,K_damp)\n",
    "\n",
    "    for i in np.arange(t/deltat):\n",
    "\n",
    "        A,vel = update(N,A,vel,omega,eta,deltax,deltat,i)\n",
    "        #fig = plt.figure(figsize=(10,10))\n",
    "        fig = plt.figure()\n",
    "        plt.imshow(A, vmin= -round(eta), vmax=round(eta),cmap = 'Greys', interpolation = 'none')\n",
    "        fig.savefig(str(round((i*deltat),1))+'.png',bbox_inches = 'tight')\n",
    "        plt.close(fig)\n",
    "    return A\n",
    "\n"
   ]
  },
  {
   "cell_type": "code",
   "execution_count": 31,
   "metadata": {},
   "outputs": [
    {
     "data": {
      "text/plain": [
       "6400"
      ]
     },
     "execution_count": 31,
     "metadata": {},
     "output_type": "execute_result"
    }
   ],
   "source": [
    "len(np.arange(t/deltat))"
   ]
  },
  {
   "cell_type": "code",
   "execution_count": null,
   "metadata": {},
   "outputs": [],
   "source": []
  }
 ],
 "metadata": {
  "kernelspec": {
   "display_name": "Python 3",
   "language": "python",
   "name": "python3"
  },
  "language_info": {
   "codemirror_mode": {
    "name": "ipython",
    "version": 3
   },
   "file_extension": ".py",
   "mimetype": "text/x-python",
   "name": "python",
   "nbconvert_exporter": "python",
   "pygments_lexer": "ipython3",
   "version": "3.8.3"
  }
 },
 "nbformat": 4,
 "nbformat_minor": 4
}
