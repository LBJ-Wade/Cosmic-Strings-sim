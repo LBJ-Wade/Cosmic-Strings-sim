{
 "cells": [
  {
   "cell_type": "code",
   "execution_count": 19,
   "metadata": {},
   "outputs": [
    {
     "name": "stdout",
     "output_type": "stream",
     "text": [
      "Using matplotlib backend: Qt5Agg\n"
     ]
    }
   ],
   "source": [
    "%matplotlib\n",
    "from matplotlib import pyplot as plt\n",
    "import numpy as np\n",
    "import matplotlib \n",
    "from PIL import Image\n",
    "import math\n",
    "from random import random\n",
    "from random import seed\n",
    "from random import randint\n",
    "import time\n",
    "from numba import jit"
   ]
  },
  {
   "cell_type": "code",
   "execution_count": 35,
   "metadata": {},
   "outputs": [],
   "source": [
    "#numpy.roll\n",
    "#from numba import jit\n",
    "\n",
    "def div_potential(A,omega,eta):\n",
    "    #omega = 15\n",
    "    lam = 2*pow(math.pi,2)/pow(omega,2)\n",
    "    pot = lam*A*(pow(A,2)-pow(eta,2))\n",
    "    return pot\n",
    "    \n",
    "def function(A,omega,eta,deltax,deltat):\n",
    "    F = np.subtract(Laplacian(A,deltax,deltat),div_potential(A,omega,eta))\n",
    "    return F\n",
    "\n",
    "def update(N,A,vel,omega,eta,deltax,deltat):\n",
    "    F = function(A,omega,eta,deltax,deltat)\n",
    "    A = A + deltat*(vel + 0.5*deltat*function(A,omega,eta,deltax,deltat)) \n",
    "    vel = vel + deltat/2*(F + function(A,omega,eta,deltax,deltat))\n",
    "    return A,vel\n",
    "    \n",
    "#change the values accordlingly    \n",
    "def wolff(N,t,A,vel,omega,eta,deltax,deltat):\n",
    "\n",
    "    \n",
    "    for i in np.arange(t/deltat):\n",
    "        \n",
    "        A,vel = update(N,A,vel,omega,eta,deltax,deltat)\n",
    "\n",
    "            \n",
    "        plt.imsave(str(round((i*deltat),1))+'.png',A,vmin = -eta, vmax = eta,cmap = 'Greys')\n",
    "        \n",
    "\n",
    "    return A\n",
    "\n",
    "def wolf(N,t,A,vel,omega,eta):\n",
    "    empty = [A]\n",
    "    deci = t//deltat\n",
    "    val = np.linspace(0,t,round(deci)+2)\n",
    "    for i in np.arange(t/deltat):\n",
    "        \n",
    "        A,vel = update(N,A,vel,omega,eta)\n",
    "        empty.append(A)\n",
    "\n",
    "    return A,val,empty\n",
    "\n",
    "\n",
    "def plotting_path(path,index):\n",
    "    index = index % N**2\n",
    "    row = index // N\n",
    "    column = np.remainder(index,N)\n",
    "    plot = []\n",
    "    for i in range(len(path)):\n",
    "        x = path[i]\n",
    "        plot.append(x[row,column])\n",
    "    return plot"
   ]
  },
  {
   "cell_type": "code",
   "execution_count": 32,
   "metadata": {},
   "outputs": [
    {
     "data": {
      "text/plain": [
       "array([[0., 0., 0., 0., 0., 0., 0., 0., 0., 0.],\n",
       "       [0., 0., 0., 0., 0., 0., 0., 0., 0., 0.],\n",
       "       [0., 0., 0., 0., 0., 0., 0., 0., 0., 0.],\n",
       "       [0., 0., 0., 0., 0., 0., 0., 0., 0., 0.],\n",
       "       [0., 0., 0., 0., 0., 0., 0., 0., 0., 0.],\n",
       "       [0., 0., 0., 0., 0., 0., 0., 0., 0., 0.],\n",
       "       [0., 0., 0., 0., 0., 0., 0., 0., 0., 0.],\n",
       "       [0., 0., 0., 0., 0., 0., 0., 0., 0., 0.],\n",
       "       [0., 0., 0., 0., 0., 0., 0., 0., 0., 0.],\n",
       "       [0., 0., 0., 0., 0., 0., 0., 0., 0., 0.]])"
      ]
     },
     "execution_count": 32,
     "metadata": {},
     "output_type": "execute_result"
    }
   ],
   "source": []
  },
  {
   "cell_type": "code",
   "execution_count": null,
   "metadata": {},
   "outputs": [],
   "source": [
    "def Laplacian(A,deltax,deltat):\n",
    "\n",
    "    #CFL condition delta x => sqrt(D) delta t, where D is the number of dimensions           \n",
    "\n",
    "    \n",
    "    Ax1 = np.roll(A,1,axis=0)\n",
    "    Ax2 = np.roll(A,2,axis=0)\n",
    "    Ax_1 = np.roll(A,-1,axis=0)\n",
    "    Ax_2 = np.roll(A,-2,axis=0)\n",
    "    \n",
    "    Ay1 = np.roll(A,1,axis=1)\n",
    "    Ay2 = np.roll(A,2,axis=1)\n",
    "    Ay_1 = np.roll(A,-1,axis=1)\n",
    "    Ay_2 = np.roll(A,-2,axis=1)\n",
    "    \n",
    "    P = (-Ax2 + 16*Ax1 + 16*Ax_1 - Ax_2 - Ay2 + 16*Ay1 + 16*Ay_1 - Ay_2 - 60*A)/(12*pow(deltax,2))\n",
    "    \n",
    "  \n",
    "    return P\n",
    "\n",
    "\n",
    "#numpy.roll\n",
    "\n",
    "\n",
    "start = time.time()\n",
    "\n",
    "n = 7\n",
    "deltax = 1\n",
    "deltat = 0.1\n",
    "eta = 3\n",
    "N = pow(2,n)\n",
    "t = 0.25*N*deltax/deltat\n",
    "vel = np.zeros((N,N))\n",
    "mu, sigma = 0, 0.1 # mean and standard deviation\n",
    "omega = 15\n",
    "\n",
    "A = np.random.normal(mu, sigma, size=(N, N))\n",
    "\n",
    "A = wolff(N,t,A,vel,omega,eta,deltax,deltat)\n",
    "\n",
    "end = time.time()\n",
    "print(end - start)"
   ]
  },
  {
   "cell_type": "code",
   "execution_count": null,
   "metadata": {},
   "outputs": [],
   "source": []
  },
  {
   "cell_type": "code",
   "execution_count": 37,
   "metadata": {},
   "outputs": [
    {
     "name": "stdout",
     "output_type": "stream",
     "text": [
      "4.696967124938965\n"
     ]
    }
   ],
   "source": [
    "@jit(nopython = True)\n",
    "    \n",
    "def Laplacian(A,deltax,deltat):\n",
    "\n",
    "    h = len(A)\n",
    "    #CFL condition delta x => sqrt(D) delta t, where D is the number of dimensions            \n",
    "    P = np.zeros((h,h))\n",
    "    result = np.zeros((h,h))\n",
    "    \n",
    "    for i in range(0, h):\n",
    "        for j in range(0,h):\n",
    "            P[i,j] = (-A[(i+2)%h,j] + 16*A[(i+1)%h,j] + 16*A[(i-1)%h,j] -A[(i-2)%h,j] \\\n",
    "                 -A[i,(j+2)%h] + 16*A[i,(j+1)%h]  + 16*A[i,(j-1)%h] -A[i,(j-2)%h] - 60*A[i,j])/(12*pow(deltax,2))\n",
    "\n",
    "  \n",
    "    return P \n",
    "\n",
    "\n",
    "\n",
    "#machine Code\n",
    "\n",
    "start = time.time()\n",
    "\n",
    "n = 7\n",
    "deltax = 1\n",
    "deltat = 0.1\n",
    "eta = 3\n",
    "N = pow(2,n)\n",
    "t = 0.25*N*deltax/deltat\n",
    "vel = np.zeros((N,N))\n",
    "mu, sigma = 0, 0.1 # mean and standard deviation\n",
    "omega = 15\n",
    "\n",
    "A = np.random.normal(mu, sigma, size=(N, N))\n",
    "\n",
    "A = wolff(N,t,A,vel,omega,eta,deltax,deltat)\n",
    "\n",
    "end = time.time()\n",
    "print(end - start)"
   ]
  },
  {
   "cell_type": "code",
   "execution_count": null,
   "metadata": {},
   "outputs": [],
   "source": []
  }
 ],
 "metadata": {
  "kernelspec": {
   "display_name": "Python 3",
   "language": "python",
   "name": "python3"
  },
  "language_info": {
   "codemirror_mode": {
    "name": "ipython",
    "version": 3
   },
   "file_extension": ".py",
   "mimetype": "text/x-python",
   "name": "python",
   "nbconvert_exporter": "python",
   "pygments_lexer": "ipython3",
   "version": "3.8.3"
  }
 },
 "nbformat": 4,
 "nbformat_minor": 4
}
