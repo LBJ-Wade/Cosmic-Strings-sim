{
 "cells": [
  {
   "cell_type": "code",
   "execution_count": 57,
   "id": "2686dcc1",
   "metadata": {},
   "outputs": [],
   "source": [
    "%matplotlib inline\n",
    "from matplotlib import pyplot as plt\n",
    "import numpy as np\n",
    "import matplotlib \n",
    "from PIL import Image\n",
    "import PIL\n",
    "import math\n",
    "from random import random\n",
    "from random import seed\n",
    "from random import randint\n",
    "import time\n",
    "from numba import jit\n",
    "from scipy import ndimage, misc\n",
    "import scipy.stats as stats"
   ]
  },
  {
   "cell_type": "code",
   "execution_count": 172,
   "id": "74e4757f",
   "metadata": {},
   "outputs": [],
   "source": [
    "# Comoving but the strings will disappear\n",
    "\n",
    "@jit(nopython = True)\n",
    "def Laplacian(A,deltax,deltat):\n",
    "\n",
    "    h = len(A)\n",
    "    #CFL condition delta x => sqrt(D) delta t, where D is the number of dimensions            \n",
    "    P = np.zeros((h,h))\n",
    "    result = np.zeros((h,h))\n",
    "    \n",
    "    for i in range(0, h):\n",
    "        for j in range(0,h):\n",
    "            P[i,j] = (-A[(i+2)%h,j] + 16*A[(i+1)%h,j] + 16*A[(i-1)%h,j] -A[(i-2)%h,j] \\\n",
    "                 -A[i,(j+2)%h] + 16*A[i,(j+1)%h]  + 16*A[i,(j-1)%h] -A[i,(j-2)%h] - 60*A[i,j])/(12*pow(deltax,2))\n",
    "\n",
    "  \n",
    "    return P \n",
    "\n",
    "\n",
    "\n",
    "def update(N,A1,A2,vel1,vel2,omega,eta,deltax,deltat,a,time):\n",
    "    a1 = c_1 * time ** (2/3) + c_2*(np.exp(time/c_3)-1)\n",
    "    deltaa = a1-a\n",
    "    da_dt_a = deltaa/deltat/a1 \n",
    "\n",
    "    lam = 2*pow(math.pi,2)/pow(omega,2)\n",
    "\n",
    "    F1 = Laplacian(A1,deltax,deltat) - lam*A1*(pow(A1,2)+pow(A2,2)-pow(eta,2))-3*da_dt_a*vel1 \n",
    "    F2 = Laplacian(A2,deltax,deltat) - lam*A2*(pow(A1,2)+pow(A2,2)-pow(eta,2))-3*da_dt_a*vel2\n",
    "    \n",
    "    time = time + deltat\n",
    "    \n",
    "    a2 = c_1 * time ** (2/3) + c_2*(np.exp(time/c_3)-1)\n",
    "    deltaa = a2-a1\n",
    "    da_dt_a = deltaa/deltat/a2 \n",
    "    \n",
    "    \n",
    "    A1 = A1 + deltat*(vel1 + 0.5*deltat*F1) \n",
    "    A2 = A2 + deltat*(vel2 + 0.5*deltat*F2) \n",
    "    \n",
    "\n",
    "    \n",
    "    vel1 = vel1 + deltat/2*(F1 + Laplacian(A1,deltax,deltat) - lam*A1*(pow(A1,2)+pow(A2,2)-pow(eta,2)) -3*da_dt_a*vel1) \n",
    "    vel2 = vel2 + deltat/2*(F2 + Laplacian(A2,deltax,deltat) - lam*A2*(pow(A1,2)+pow(A2,2)-pow(eta,2)) -3*da_dt_a*vel2)\n",
    "    \n",
    "    \n",
    "    return A1,A2,vel1,vel2,a1,time\n",
    "    \n",
    "#change the values accordlingly    \n",
    "def wolff(N,t0,t,A1,A2,vel,omega,eta,deltax,deltat):\n",
    "\n",
    "    time = t0\n",
    "    pA1 = np.zeros((N,N))\n",
    "    pA2 = np.zeros((N,N))\n",
    "    vel1 = vel\n",
    "    vel2 = vel\n",
    "    a = 1.71541177447862e-5 * time ** (0.2530363118519119)\n",
    "\n",
    "\n",
    "    for i in np.arange(int(t/deltat)):\n",
    "        time = round(time,1)\n",
    "        \n",
    "        if time % 1 == 0:\n",
    "\n",
    "        \n",
    "            #plt.imsave('1259/'+str(int(time)).zfill(3)+'.png',np.sqrt(pow(A1,2)+pow(A2,2)),vmin = 0, vmax = eta,cmap = 'Greys')\n",
    "            plt.imsave('1262/'+str(int(time)).zfill(3)+'.png',np.arctan2(A2,A1),vmin = -1*math.pi, vmax = math.pi,cmap = 'twilight')\n",
    "\n",
    "        A1,A2,vel1,vel2,a,time = update(N,A1,A2,vel1,vel2,omega,eta,deltax,deltat,a,time)\n",
    "\n",
    "\n",
    "    return A1,A2"
   ]
  },
  {
   "cell_type": "code",
   "execution_count": 91,
   "id": "68a78bfb",
   "metadata": {},
   "outputs": [],
   "source": [
    "# comoving but the strings stay put (non-ideal)\n",
    "\n",
    "@jit(nopython = True)\n",
    "def Laplacian(A,deltax,deltat):\n",
    "\n",
    "    h = len(A)\n",
    "    #CFL condition delta x => sqrt(D) delta t, where D is the number of dimensions            \n",
    "    P = np.zeros((h,h))\n",
    "    result = np.zeros((h,h))\n",
    "    \n",
    "    for i in range(0, h):\n",
    "        for j in range(0,h):\n",
    "            P[i,j] = (-A[(i+2)%h,j] + 16*A[(i+1)%h,j] + 16*A[(i-1)%h,j] -A[(i-2)%h,j] \\\n",
    "                 -A[i,(j+2)%h] + 16*A[i,(j+1)%h]  + 16*A[i,(j-1)%h] -A[i,(j-2)%h] - 60*A[i,j])/(12*pow(deltax,2))\n",
    "\n",
    "  \n",
    "    return P \n",
    "\n",
    "\n",
    "\n",
    "def update(N,A1,A2,vel1,vel2,omega,eta,deltax,deltat,a,time):\n",
    "    H_0 = 2.18e-18\n",
    "    c_1 = 0.822\n",
    "    c_2 = 0.0623\n",
    "    c_3 = 0.645\n",
    "\n",
    "    a1 = 2.93282351932618e-37 * time **2\n",
    "    beta = 0\n",
    "    alpha = 3\n",
    "    ln_da_dt = 2\n",
    "    \n",
    "    lam = 2*pow(math.pi,2)/pow(omega,2)\n",
    "    \n",
    "\n",
    "    \n",
    "    F1 = Laplacian(A1,deltax,deltat) - a1**beta * lam*A1*(pow(A1,2)+pow(A2,2)-pow(eta,2))-alpha*ln_da_dt*vel1\n",
    "    F2 = Laplacian(A2,deltax,deltat) - a1**beta * lam*A2*(pow(A1,2)+pow(A2,2)-pow(eta,2))-alpha*ln_da_dt*vel2\n",
    "    \n",
    "    time = time + deltat\n",
    "    \n",
    "    a2 = 2.93282351932618e-37 * time **2\n",
    "    \n",
    "    A1 = A1 + deltat*(vel1 + 0.5*deltat*F1) \n",
    "    A2 = A2 + deltat*(vel2 + 0.5*deltat*F2) \n",
    "\n",
    "    \n",
    "    vel1 = vel1 + deltat/2*(F1 + Laplacian(A1,deltax,deltat) - a2**beta *lam*A1*(pow(A1,2)+pow(A2,2)-pow(eta,2)) -alpha*ln_da_dt*vel1) \n",
    "    vel2 = vel2 + deltat/2*(F2 + Laplacian(A2,deltax,deltat) - a2**beta *lam*A2*(pow(A1,2)+pow(A2,2)-pow(eta,2)) -alpha*ln_da_dt*vel2)\n",
    "    \n",
    "    \n",
    "    return A1,A2,vel1,vel2,a1,time\n",
    "    \n",
    "#change the values accordlingly    \n",
    "def wolff(N,t0,t,A1,A2,vel,omega,eta,deltax,deltat):\n",
    "    \n",
    "    fig = plt.figure(figsize=(8,8))\n",
    "    fig.set_facecolor('white')\n",
    "    H_0 = 2.18e-18\n",
    "    time = t0\n",
    "\n",
    "    vel1 = vel\n",
    "    vel2 = vel\n",
    "    \n",
    "    c_1 = 0.822\n",
    "    c_2 = 0.0623\n",
    "    c_3 = 0.645\n",
    "    a = c_1 * (time*H_0) ** (2/3) + c_2*(np.exp((time*H_0)/c_3)-1)\n",
    "    npix = A1.shape[0]\n",
    "    kfreq = np.fft.fftfreq(npix)*npix\n",
    "    kfreq2D = np.meshgrid(kfreq,kfreq)\n",
    "    knrm = np.sqrt(kfreq2D[0]**2 + kfreq2D[1]**2)\n",
    "    knrm = knrm.flatten()\n",
    "    kbins = np.arange(0.5,npix//2 + 1,1.)\n",
    "    kvals = 0.5 * (kbins[1:] + kbins[:-1])\n",
    "    \n",
    "\n",
    "    for i in np.arange(int(t/deltat)):\n",
    "        time = round(time,3)\n",
    "        \n",
    "        if time % 10 == 0:\n",
    "\n",
    "            mod = np.sqrt(pow(A1,2)+pow(A2,2))\n",
    "        \n",
    "            #plt.imsave('111/'+str(int(time)).zfill(3)+'.png',np.sqrt(pow(A1,2)+pow(A2,2)),vmin = 0, vmax = eta,cmap = 'Greys')\n",
    "            #plt.imsave('313/'+str(int(time)).zfill(3)+'.png',np.arctan2(A2,A1),vmin = -1*math.pi, vmax = math.pi,cmap = 'twilight')\n",
    "             \n",
    "            f_image = np.fft.fftn(mod)\n",
    "            f_amp = np.abs(f_image)**2\n",
    "            f_amp = f_amp.flatten()\n",
    "            Abins, _, _ = stats.binned_statistic(knrm,f_amp, statistic = \"mean\", bins = kbins)\n",
    "            Abins *= np.pi * (kbins[1:]**2 - kbins[:-1]**2)\n",
    "            plt.loglog(kvals,Abins)\n",
    "            plt.xlabel(\"k\")\n",
    "            plt.ylabel(\"P(k)\")\n",
    "            plt.xlim([1e-1,1e3])\n",
    "            plt.ylim([1e2,1e8])\n",
    "            \n",
    "            plt.savefig('314/'+str(int(time)).zfill(3)+'.png', bbox_inches= 'tight')\n",
    "            plt.clf()\n",
    "\n",
    "            \n",
    "        A1,A2,vel1,vel2,a,time = update(N,A1,A2,vel1,vel2,omega,eta,deltax,deltat,a,time)\n",
    "\n",
    "\n",
    "    return A1,A2"
   ]
  },
  {
   "cell_type": "code",
   "execution_count": 101,
   "id": "e99c7697",
   "metadata": {},
   "outputs": [],
   "source": [
    "# comoving but the strings stay put (ideal for radiation or matter)\n",
    "\n",
    "@jit(nopython = True)\n",
    "def Laplacian(A,deltax,deltat):\n",
    "\n",
    "    h = len(A)\n",
    "    #CFL condition delta x => sqrt(D) delta t, where D is the number of dimensions            \n",
    "    P = np.zeros((h,h))\n",
    "    result = np.zeros((h,h))\n",
    "    \n",
    "    for i in range(0, h):\n",
    "        for j in range(0,h):\n",
    "            P[i,j] = (-A[(i+2)%h,j] + 16*A[(i+1)%h,j] + 16*A[(i-1)%h,j] -A[(i-2)%h,j] \\\n",
    "                 -A[i,(j+2)%h] + 16*A[i,(j+1)%h]  + 16*A[i,(j-1)%h] -A[i,(j-2)%h] - 60*A[i,j])/(12*pow(deltax,2))\n",
    "\n",
    "  \n",
    "    return P \n",
    "\n",
    "\n",
    "\n",
    "def update(N,A1,A2,vel1,vel2,omega,eta,deltax,deltat,a,time):\n",
    "    H_0 = 2.18e-18\n",
    "    #a = np.sqrt(2*H_0)*np.sqrt(time)\n",
    "    #a = H_0 ** (2/3) * time ** (2/3)\n",
    "    a = 4.36000000000006e-18 * time - 6.78288102293483e-23 \n",
    "    beta = 0\n",
    "    alpha = 3\n",
    "    era = 1 #radiation\n",
    "    #era = 2 #matter\n",
    "    \n",
    "\n",
    "    lam = 2*pow(math.pi,2)/pow(omega,2)\n",
    "    \n",
    "\n",
    "    \n",
    "    F1 = Laplacian(A1,deltax,deltat) - a**beta * lam*A1*(pow(A1,2)+pow(A2,2)-pow(eta,2))-alpha*era*vel1\n",
    "    F2 = Laplacian(A2,deltax,deltat) - a**beta * lam*A2*(pow(A1,2)+pow(A2,2)-pow(eta,2))-alpha*era*vel2\n",
    "    \n",
    "    time = time + deltat\n",
    "    \n",
    "    a1 = 4.36000000000006e-18 * time - 6.78288102293483e-23 \n",
    "    \n",
    "    \n",
    "\n",
    "    \n",
    "    A1 = A1 + deltat*(vel1 + 0.5*deltat*F1) \n",
    "    A2 = A2 + deltat*(vel2 + 0.5*deltat*F2) \n",
    "\n",
    "    \n",
    "    vel1 = vel1 + deltat/2*(F1 + Laplacian(A1,deltax,deltat) - a1**beta *lam*A1*(pow(A1,2)+pow(A2,2)-pow(eta,2)) \\\n",
    "                                   -alpha*era*vel1)\n",
    "    vel2 = vel2 + deltat/2*(F2 + Laplacian(A2,deltax,deltat) - a1**beta *lam*A2*(pow(A1,2)+pow(A2,2)-pow(eta,2)) \\\n",
    "                                  -alpha*era*vel2)\n",
    "    \n",
    "    \n",
    "    return A1,A2,vel1,vel2,a,time\n",
    "    \n",
    "#change the values accordlingly    \n",
    "def wolff(N,t0,t,A1,A2,vel,omega,eta,deltax,deltat):\n",
    "    fig = plt.figure(figsize=(8,8))\n",
    "    fig.set_facecolor('white')\n",
    "\n",
    "    time = t0\n",
    "    a = 0\n",
    "\n",
    "    vel1 = vel\n",
    "    vel2 = vel\n",
    "    \n",
    "    npix = A1.shape[0]\n",
    "    kfreq = np.fft.fftfreq(npix)*npix\n",
    "    kfreq2D = np.meshgrid(kfreq,kfreq)\n",
    "    knrm = np.sqrt(kfreq2D[0]**2 + kfreq2D[1]**2)\n",
    "    knrm = knrm.flatten()\n",
    "    kbins = np.arange(0.5,npix//2 + 1,1.)\n",
    "    kvals = 0.5 * (kbins[1:] + kbins[:-1])\n",
    "\n",
    "\n",
    "    for i in np.arange(int(t/deltat)):\n",
    "        time = round(time,3)\n",
    "        \n",
    "        if time % 5 == 0:\n",
    "            mod = np.sqrt(pow(A1,2)+pow(A2,2))\n",
    "        \n",
    "\n",
    "        \n",
    "            #plt.imsave('112/'+str(int(time)).zfill(3)+'.png',np.sqrt(pow(A1,2)+pow(A2,2)),vmin = 0, vmax = eta,cmap = 'Greys')\n",
    "            #plt.imsave('311/'+str(int(time)).zfill(3)+'.png',np.arctan2(A2,A1),vmin = -1*math.pi, vmax = math.pi,cmap = 'twilight')\n",
    "            f_image = np.fft.fftn(mod)\n",
    "            f_amp = np.abs(f_image)**2\n",
    "            f_amp = f_amp.flatten()\n",
    "            Abins, _, _ = stats.binned_statistic(knrm,f_amp, statistic = \"mean\", bins = kbins)\n",
    "            Abins *= np.pi * (kbins[1:]**2 - kbins[:-1]**2)\n",
    "            plt.loglog(kvals,Abins)\n",
    "            plt.xlabel(\"k\")\n",
    "            plt.ylabel(\"P(k)\")\n",
    "            plt.xlim([1e-1,1e3])\n",
    "            plt.ylim([1e2,1e8])\n",
    "            \n",
    "            plt.savefig('314/'+str(int(time/5)).zfill(3)+'.png', bbox_inches= 'tight')\n",
    "            plt.clf()\n",
    "            \n",
    "        A1,A2,vel1,vel2,a,time = update(N,A1,A2,vel1,vel2,omega,eta,deltax,deltat,a,time)\n",
    "\n",
    "\n",
    "    return A1,A2"
   ]
  },
  {
   "cell_type": "code",
   "execution_count": null,
   "id": "85a0d714",
   "metadata": {},
   "outputs": [],
   "source": [
    "\n",
    "#2.93282351932618e-37 * x**2 , imp\n",
    "# 4.75240000000367e-36 * x**2, matter\n",
    "# 4.36000000000006e-18 * x - 6.78288102293483e-23 , rad"
   ]
  },
  {
   "cell_type": "code",
   "execution_count": null,
   "id": "2a936a4d",
   "metadata": {},
   "outputs": [],
   "source": []
  },
  {
   "cell_type": "code",
   "execution_count": null,
   "id": "61574a35",
   "metadata": {},
   "outputs": [
    {
     "name": "stdout",
     "output_type": "stream",
     "text": [
      "2560.0\n"
     ]
    }
   ],
   "source": [
    "start = time.time()\n",
    "plt.close()\n",
    "\n",
    "n = 9\n",
    "deltax = 1\n",
    "deltat = 0.1\n",
    "eta = 1\n",
    "N = pow(2,n)\n",
    "t = 0.5*N*deltax/deltat # light crossing time\n",
    "t0 = 0.1\n",
    "t2 = t/2 # half time\n",
    "t5 = t/5\n",
    "t10 = t/10 # 1/10 of the ligth crossing time\n",
    "\n",
    "vel = np.zeros((N,N))\n",
    "mu, sigma = 0, 0.1 # mean and standard deviation\n",
    "omega = 5\n",
    "\n",
    "print(t)\n",
    "\n",
    "\n",
    "\n",
    "A1 = np.random.normal(mu, sigma, size=(N, N))\n",
    "A2 = np.random.normal(mu,sigma,size=(N,N))\n",
    "\n",
    "A1,A2 = wolff(N,t0,t5,A1,A2,vel,omega,eta,deltax,deltat)\n",
    "\n",
    "end = time.time()\n",
    "print(end - start)"
   ]
  },
  {
   "cell_type": "code",
   "execution_count": 55,
   "id": "0e3a10ca",
   "metadata": {},
   "outputs": [
    {
     "name": "stdout",
     "output_type": "stream",
     "text": [
      "2560.0\n",
      "275.56834268569946\n"
     ]
    }
   ],
   "source": [
    "start = time.time()\n",
    "\n",
    "\n",
    "n = 9\n",
    "deltax = 1\n",
    "deltat = 0.1\n",
    "eta = 1\n",
    "N = pow(2,n)\n",
    "t = 0.5*N*deltax/deltat # light crossing time\n",
    "t0 = 0.1\n",
    "t2 = t/2 # half time\n",
    "t5 = t/5\n",
    "t10 = t/10 # 1/10 of the ligth crossing time\n",
    "\n",
    "vel = np.zeros((N,N))\n",
    "mu, sigma = 0, 0.1 # mean and standard deviation\n",
    "omega = 5\n",
    "\n",
    "print(t)\n",
    "\n",
    "\n",
    "\n",
    "A1 = np.random.normal(mu, sigma, size=(N, N))\n",
    "A2 = np.random.normal(mu,sigma,size=(N,N))\n",
    "\n",
    "A1,A2 = wolff(N,t0,t5,A1,A2,vel,omega,eta,deltax,deltat)\n",
    "\n",
    "end = time.time()\n",
    "print(end - start)"
   ]
  },
  {
   "cell_type": "code",
   "execution_count": null,
   "id": "7bf84c12",
   "metadata": {},
   "outputs": [],
   "source": []
  },
  {
   "cell_type": "code",
   "execution_count": 5,
   "id": "3817f306",
   "metadata": {
    "scrolled": true
   },
   "outputs": [
    {
     "data": {
      "text/plain": [
       "array([[0., 0., 0., 0., 0., 0., 0., 0., 0., 0.],\n",
       "       [0., 0., 0., 0., 0., 0., 0., 0., 0., 0.],\n",
       "       [0., 0., 0., 0., 0., 0., 0., 0., 0., 0.],\n",
       "       [0., 0., 0., 0., 0., 0., 0., 0., 0., 0.],\n",
       "       [0., 0., 0., 0., 0., 0., 0., 0., 0., 0.],\n",
       "       [0., 0., 0., 0., 0., 0., 0., 0., 0., 0.],\n",
       "       [0., 0., 0., 0., 0., 0., 0., 0., 0., 0.],\n",
       "       [0., 0., 0., 0., 0., 0., 0., 0., 0., 0.],\n",
       "       [0., 0., 0., 0., 0., 0., 0., 0., 0., 0.],\n",
       "       [0., 0., 0., 0., 0., 0., 0., 0., 0., 0.]])"
      ]
     },
     "execution_count": 5,
     "metadata": {},
     "output_type": "execute_result"
    }
   ],
   "source": [
    "Laplacian(np.zeros((10,10)),1,0.1)"
   ]
  },
  {
   "cell_type": "code",
   "execution_count": 27,
   "id": "b7d15f54",
   "metadata": {},
   "outputs": [
    {
     "data": {
      "text/plain": [
       "(1.1178179380783253, 7.866317216380692e-09)"
      ]
     },
     "execution_count": 27,
     "metadata": {},
     "output_type": "execute_result"
    }
   ],
   "source": [
    "import scipy.integrate as integrate\n",
    "\n",
    "import scipy.special as special\n",
    "\n",
    "result = integrate.quad(lambda x: special.jv(2.5,x), 0, 4.5)\n",
    "\n",
    "result"
   ]
  },
  {
   "cell_type": "code",
   "execution_count": 29,
   "id": "587aafe5",
   "metadata": {},
   "outputs": [],
   "source": [
    "H_0 = 2.18e-18\n",
    "omega_r = 9.24e-5\n",
    "omega_m = 0.315\n",
    "omega_lambda = 0.685\n",
    "omega_k = 0\n",
    "time = []\n",
    "Hubble = []\n",
    "a = np.linspace(1e-6,1,50000)\n",
    "a = np.around(a,7)\n",
    "\n",
    "                         \n",
    "for i in range(0,len(a)):\n",
    "    H = H_0 * np.sqrt(omega_r * pow(a[i],-4) + omega_m * pow(a[i],-3) + omega_k * pow(a[i],-2) + omega_lambda)\n",
    "    integrand = lambda x: x/(np.sqrt(omega_r + omega_m * x + omega_k * pow(x,2) + omega_lambda * pow(x,4)))\n",
    "    t= integrate.quad(integrand,0,a[i])\n",
    "    time.append(t[0]/H_0)\n",
    "    Hubble.append(H)"
   ]
  },
  {
   "cell_type": "code",
   "execution_count": 30,
   "id": "1778f520",
   "metadata": {},
   "outputs": [
    {
     "name": "stdout",
     "output_type": "stream",
     "text": [
      "4.3604709253160166e+17\n"
     ]
    },
    {
     "data": {
      "image/png": "[encoded data removed]",
      "text/plain": [
       "<Figure size 432x288 with 1 Axes>"
      ]
     },
     "metadata": {
      "needs_background": "light"
     },
     "output_type": "display_data"
    }
   ],
   "source": [
    "plt.plot(time,a)\n",
    "print(time[-1])\n"
   ]
  },
  {
   "cell_type": "code",
   "execution_count": 89,
   "id": "48cb7910",
   "metadata": {},
   "outputs": [
    {
     "name": "stdout",
     "output_type": "stream",
     "text": [
      "4.5871559633027526e+17\n"
     ]
    },
    {
     "data": {
      "text/plain": [
       "[<matplotlib.lines.Line2D at 0x7f699620afa0>]"
      ]
     },
     "execution_count": 89,
     "metadata": {},
     "output_type": "execute_result"
    },
    {
     "data": {
      "image/png": "[encoded data removed]",
      "text/plain": [
       "<Figure size 432x288 with 1 Axes>"
      ]
     },
     "metadata": {
      "needs_background": "light"
     },
     "output_type": "display_data"
    }
   ],
   "source": [
    "c_1 = 0.822\n",
    "c_2 = 0.0623\n",
    "c_3 = 0.645\n",
    "H_0 = 2.18e-18\n",
    "print(1/H_0)\n",
    "x = np.linspace(1e-6,4.3604709253160166e+17,500000)*H_0\n",
    "y = c_1 * x ** (2/3) + c_2*(np.exp(x/c_3)-1)\n",
    "plt.plot(x,y)"
   ]
  },
  {
   "cell_type": "code",
   "execution_count": 104,
   "id": "5d7eef18",
   "metadata": {},
   "outputs": [
    {
     "data": {
      "text/plain": [
       "[<matplotlib.lines.Line2D at 0x7f69912afc70>]"
      ]
     },
     "execution_count": 104,
     "metadata": {},
     "output_type": "execute_result"
    },
    {
     "data": {
      "image/png": "[encoded data removed]",
      "text/plain": [
       "<Figure size 432x288 with 1 Axes>"
      ]
     },
     "metadata": {
      "needs_background": "light"
     },
     "output_type": "display_data"
    }
   ],
   "source": [
    "H_0 = 2.18e-18\n",
    "c_1 = 0.822\n",
    "c_2 = 0.0623\n",
    "c_3 = 0.645\n",
    "H_0 = 2.18e-18\n",
    "\n",
    "x = np.linspace(1e-6,10000,500000)\n",
    "y = c_1 * (x*H_0) ** (2/3) + c_2*(np.exp((x*H_0)/c_3)-1)\n",
    "plt.plot(x,y)"
   ]
  },
  {
   "cell_type": "code",
   "execution_count": 105,
   "id": "59f25d62",
   "metadata": {},
   "outputs": [
    {
     "data": {
      "text/plain": [
       "[<matplotlib.lines.Line2D at 0x7f69a91c1f70>]"
      ]
     },
     "execution_count": 105,
     "metadata": {},
     "output_type": "execute_result"
    },
    {
     "data": {
      "image/png": "[encoded data removed]",
      "text/plain": [
       "<Figure size 432x288 with 1 Axes>"
      ]
     },
     "metadata": {
      "needs_background": "light"
     },
     "output_type": "display_data"
    }
   ],
   "source": [
    "ln_x = np.log(x)\n",
    "ln_y = np.log(y)\n",
    "plt.plot(ln_x,ln_y)\n",
    "#gradient = 0.666667285959397"
   ]
  },
  {
   "cell_type": "code",
   "execution_count": 106,
   "id": "c0708a9d",
   "metadata": {},
   "outputs": [],
   "source": [
    "dict = {'ln(x)': ln_x,'ln(y)': ln_y}\n",
    "df = pd.DataFrame(dict)\n",
    "df.to_csv('Log.csv')"
   ]
  },
  {
   "cell_type": "code",
   "execution_count": 32,
   "id": "9cff0c1c",
   "metadata": {},
   "outputs": [],
   "source": [
    "import pandas as pd\n",
    "\n",
    "dict = {'time (t)': time, 'Scale factor (a)': a, 'Hubble Parameter (H)': Hubble}\n",
    "df = pd.DataFrame(dict)\n",
    "df.to_csv('Integrations.csv')"
   ]
  },
  {
   "cell_type": "code",
   "execution_count": 52,
   "id": "38d984b6",
   "metadata": {},
   "outputs": [],
   "source": [
    "@jit(nopython = True)\n",
    "def Laplacian(A,deltax,deltat):\n",
    "\n",
    "    h = len(A)\n",
    "    #CFL condition delta x => sqrt(D) delta t, where D is the number of dimensions            \n",
    "    P = np.zeros((h,h))\n",
    "    result = np.zeros((h,h))\n",
    "    \n",
    "    for i in range(0, h):\n",
    "        for j in range(0,h):\n",
    "            P[i,j] = (-A[(i+2)%h,j] + 16*A[(i+1)%h,j] + 16*A[(i-1)%h,j] -A[(i-2)%h,j] \\\n",
    "                 -A[i,(j+2)%h] + 16*A[i,(j+1)%h]  + 16*A[i,(j-1)%h] -A[i,(j-2)%h] - 60*A[i,j])/(12*pow(deltax,2))\n",
    "\n",
    "  \n",
    "    return P \n",
    "\n",
    "\n",
    "\n",
    "def update(N,A1,A2,vel1,vel2,omega,eta,deltax,deltat,a,time):\n",
    "    H_0 = 2.18e-18\n",
    "    #a = np.sqrt(2*H_0)*np.sqrt(time)\n",
    "    a = 4.75240000000367e-36 * time**2\n",
    "    beta = 0\n",
    "    alpha = 3\n",
    "    #era = 1 #radiation\n",
    "    era = 2 #matter\n",
    "\n",
    "    lam = 2*pow(math.pi,2)/pow(omega,2)\n",
    "    \n",
    "\n",
    "    \n",
    "    F1 = Laplacian(A1,deltax,deltat) - a**beta * lam*A1*(pow(A1,2)+pow(A2,2)-pow(eta,2))-alpha*era*vel1\n",
    "    F2 = Laplacian(A2,deltax,deltat) - a**beta * lam*A2*(pow(A1,2)+pow(A2,2)-pow(eta,2))-alpha*era*vel2\n",
    "    \n",
    "    time = time + deltat\n",
    "    \n",
    "    a1 = 4.75240000000367e-36 * time**2\n",
    "\n",
    "    \n",
    "    A1 = A1 + deltat*(vel1 + 0.5*deltat*F1) \n",
    "    A2 = A2 + deltat*(vel2 + 0.5*deltat*F2) \n",
    "\n",
    "    \n",
    "    vel1 = vel1 + deltat/2*(F1 + Laplacian(A1,deltax,deltat) - a1**beta *lam*A1*(pow(A1,2)+pow(A2,2)-pow(eta,2)) -alpha*era*vel1) \n",
    "    vel2 = vel2 + deltat/2*(F2 + Laplacian(A2,deltax,deltat) - a1**beta *lam*A2*(pow(A1,2)+pow(A2,2)-pow(eta,2)) -alpha*era*vel2)\n",
    "    \n",
    "    \n",
    "    return A1,A2,vel1,vel2,a,time\n",
    "    \n",
    "#change the values accordlingly    \n",
    "def wolff(N,t0,t,A1,A2,vel,omega,eta,deltax,deltat):\n",
    "\n",
    "    time = t0\n",
    "    a = 0\n",
    "\n",
    "    vel1 = vel\n",
    "    vel2 = vel\n",
    "\n",
    "\n",
    "    for i in np.arange(int(t/deltat)):\n",
    "        time = round(time,3)\n",
    "        \n",
    "        if time % 1 == 0:\n",
    "\n",
    "        \n",
    "            #plt.imsave('113/'+str(int(time)).zfill(3)+'.png',np.sqrt(pow(A1,2)+pow(A2,2)),vmin = 0, vmax = eta,cmap = 'Greys')\n",
    "            plt.imsave('312/'+str(int(time)).zfill(3)+'.png',np.arctan2(A2,A1),vmin = -1*math.pi, vmax = math.pi,cmap = 'twilight')\n",
    "\n",
    "        A1,A2,vel1,vel2,a,time = update(N,A1,A2,vel1,vel2,omega,eta,deltax,deltat,a,time)\n",
    "\n",
    "\n",
    "    return A1,A2"
   ]
  },
  {
   "cell_type": "code",
   "execution_count": 53,
   "id": "0581367d",
   "metadata": {},
   "outputs": [
    {
     "name": "stdout",
     "output_type": "stream",
     "text": [
      "2560.0\n",
      "289.16619634628296\n"
     ]
    }
   ],
   "source": [
    "start = time.time()\n",
    "\n",
    "\n",
    "n = 9\n",
    "deltax = 1\n",
    "deltat = 0.1\n",
    "eta = 1\n",
    "N = pow(2,n)\n",
    "t = 0.5*N*deltax/deltat # light crossing time\n",
    "t0 = 0.1\n",
    "t2 = t/2 # half time\n",
    "t5 = t/5\n",
    "t10 = t/10 # 1/10 of the ligth crossing time\n",
    "\n",
    "vel = np.zeros((N,N))\n",
    "mu, sigma = 0, 0.1 # mean and standard deviation\n",
    "omega = 5\n",
    "\n",
    "print(t)\n",
    "\n",
    "\n",
    "\n",
    "A1 = np.random.normal(mu, sigma, size=(N, N))\n",
    "A2 = np.random.normal(mu,sigma,size=(N,N))\n",
    "\n",
    "A1,A2 = wolff(N,t0,t5,A1,A2,vel,omega,eta,deltax,deltat)\n",
    "\n",
    "end = time.time()\n",
    "print(end - start)"
   ]
  },
  {
   "cell_type": "code",
   "execution_count": 25,
   "id": "20aa85cc",
   "metadata": {},
   "outputs": [
    {
     "data": {
      "text/plain": [
       "[<matplotlib.lines.Line2D at 0x7f1419965760>]"
      ]
     },
     "execution_count": 25,
     "metadata": {},
     "output_type": "execute_result"
    },
    {
     "data": {
      "image/png": "[encoded data removed]",
      "text/plain": [
       "<Figure size 432x288 with 1 Axes>"
      ]
     },
     "metadata": {
      "needs_background": "light"
     },
     "output_type": "display_data"
    }
   ],
   "source": [
    "H_0 = 2.18e-18\n",
    "c_1 = 0.822\n",
    "c_2 = 0.0623\n",
    "c_3 = 0.645\n",
    "\n",
    "time = np.linspace(1e-6,1,10000)\n",
    "\n",
    "y_1 = c_1 * (time*H_0) ** (2/3) + c_2*(np.exp((time*H_0)/c_3)-1)\n",
    "y_2 = H_0 ** (2/3) * time ** (2/3)\n",
    "y_3 = np.sqrt(2*H_0)*np.sqrt(time)\n",
    "plt.plot(time,y_1)\n"
   ]
  },
  {
   "cell_type": "code",
   "execution_count": 98,
   "id": "073dbd1b",
   "metadata": {},
   "outputs": [
    {
     "data": {
      "text/plain": [
       "[<matplotlib.lines.Line2D at 0x7f69964d8130>]"
      ]
     },
     "execution_count": 98,
     "metadata": {},
     "output_type": "execute_result"
    },
    {
     "data": {
      "image/png": "[encoded data removed]",
      "text/plain": [
       "<Figure size 432x288 with 1 Axes>"
      ]
     },
     "metadata": {
      "needs_background": "light"
     },
     "output_type": "display_data"
    }
   ],
   "source": [
    "plt.plot(time,y_2)\n"
   ]
  },
  {
   "cell_type": "code",
   "execution_count": 99,
   "id": "6aa1978b",
   "metadata": {},
   "outputs": [
    {
     "data": {
      "text/plain": [
       "[<matplotlib.lines.Line2D at 0x7f69a90fbdc0>]"
      ]
     },
     "execution_count": 99,
     "metadata": {},
     "output_type": "execute_result"
    },
    {
     "data": {
      "image/png": "[encoded data removed]",
      "text/plain": [
       "<Figure size 432x288 with 1 Axes>"
      ]
     },
     "metadata": {
      "needs_background": "light"
     },
     "output_type": "display_data"
    }
   ],
   "source": [
    "plt.plot(time,y_3)"
   ]
  },
  {
   "cell_type": "code",
   "execution_count": null,
   "id": "8a34e708",
   "metadata": {},
   "outputs": [],
   "source": [
    "y_1 = c_1 * (time*H_0) ** (2/3) + c_2*(np.exp((time*H_0)/c_3)-1)\n",
    "y_2 = H_0 ** (2/3) * time ** (2/3)\n",
    "y_3 = np.sqrt(2*H_0)*np.sqrt(time)"
   ]
  },
  {
   "cell_type": "code",
   "execution_count": 41,
   "id": "fe23e568",
   "metadata": {},
   "outputs": [],
   "source": [
    "H_0 = 2.18e-18\n",
    "omega_r = 9.24e-5\n",
    "omega_m = 0.315\n",
    "omega_lambda = 0.685\n",
    "omega_k = 0\n",
    "scalefac = []\n",
    "conformal = []\n",
    "t = np.linspace(1e-6,20,50000)\n",
    "t = np.around(t,7)\n",
    "\n",
    "\n",
    "\n",
    "                         \n",
    "for i in range(0,len(t)):\n",
    "    scalefac.append(np.sqrt(2*H_0)*np.sqrt(t[i]))\n",
    "    integrand = lambda x: 1/(np.sqrt(2*H_0)*np.sqrt(t[i]))\n",
    "    r= integrate.quad(integrand,1e-19,t[i])\n",
    "    conformal.append(r[0])\n"
   ]
  },
  {
   "cell_type": "code",
   "execution_count": 42,
   "id": "dff29c8e",
   "metadata": {},
   "outputs": [
    {
     "data": {
      "text/plain": [
       "[<matplotlib.lines.Line2D at 0x7f140ba5f8e0>]"
      ]
     },
     "execution_count": 42,
     "metadata": {},
     "output_type": "execute_result"
    },
    {
     "data": {
      "image/png": "[encoded data removed]",
      "text/plain": [
       "<Figure size 432x288 with 1 Axes>"
      ]
     },
     "metadata": {
      "needs_background": "light"
     },
     "output_type": "display_data"
    }
   ],
   "source": [
    "plt.plot(conformal,scalefac)"
   ]
  },
  {
   "cell_type": "code",
   "execution_count": 43,
   "id": "0a7776ae",
   "metadata": {},
   "outputs": [],
   "source": [
    "import pandas as pd\n",
    "dict = {'eta': conformal,'a': scalefac}\n",
    "df = pd.DataFrame(dict)\n",
    "df.to_csv('confa.csv')\n",
    "\n",
    "\n",
    "#2.93282351932618e-37 * x**2 , imp\n",
    "# 4.75240000000367e-36 * x**2, matter\n",
    "# 4.36000000000006e-18 * x - 6.78288102293483e-23 , rad"
   ]
  },
  {
   "cell_type": "code",
   "execution_count": 133,
   "id": "ee3a0f49",
   "metadata": {},
   "outputs": [
    {
     "data": {
      "text/plain": [
       "[<matplotlib.lines.Line2D at 0x7f69904b9d00>]"
      ]
     },
     "execution_count": 133,
     "metadata": {},
     "output_type": "execute_result"
    },
    {
     "data": {
      "image/png": "[encoded data removed]",
      "text/plain": [
       "<Figure size 432x288 with 1 Axes>"
      ]
     },
     "metadata": {
      "needs_background": "light"
     },
     "output_type": "display_data"
    }
   ],
   "source": [
    "ln_sca = np.log(scalefac)\n",
    "ln_con = np.log(conformal)\n",
    "plt.plot(ln_con,ln_sca)\n",
    "#rad = gradient is 1\n",
    "#mat = gradient is 2\n",
    "#imp = gradient is 2"
   ]
  },
  {
   "cell_type": "code",
   "execution_count": 134,
   "id": "ef1bfa31",
   "metadata": {},
   "outputs": [],
   "source": [
    "dict = {'ln(eta)': ln_con,'ln(a)': ln_sca}\n",
    "df = pd.DataFrame(dict)\n",
    "df.to_csv('conf.csv')"
   ]
  },
  {
   "cell_type": "code",
   "execution_count": null,
   "id": "4882930e",
   "metadata": {},
   "outputs": [],
   "source": []
  }
 ],
 "metadata": {
  "kernelspec": {
   "display_name": "Python 3",
   "language": "python",
   "name": "python3"
  },
  "language_info": {
   "codemirror_mode": {
    "name": "ipython",
    "version": 3
   },
   "file_extension": ".py",
   "mimetype": "text/x-python",
   "name": "python",
   "nbconvert_exporter": "python",
   "pygments_lexer": "ipython3",
   "version": "3.8.5"
  }
 },
 "nbformat": 4,
 "nbformat_minor": 5
}
