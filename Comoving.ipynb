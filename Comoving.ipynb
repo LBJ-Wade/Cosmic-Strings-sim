{
 "cells": [
  {
   "cell_type": "code",
   "execution_count": 136,
   "id": "604504e2",
   "metadata": {},
   "outputs": [],
   "source": [
    "%matplotlib inline\n",
    "from matplotlib import pyplot as plt\n",
    "import numpy as np\n",
    "import matplotlib \n",
    "from PIL import Image\n",
    "import PIL\n",
    "import math\n",
    "from random import random\n",
    "from random import seed\n",
    "from random import randint\n",
    "import time\n",
    "from numba import jit"
   ]
  },
  {
   "cell_type": "code",
   "execution_count": 175,
   "id": "9487a6cb",
   "metadata": {},
   "outputs": [],
   "source": [
    "@jit(nopython = True)\n",
    "def Laplacian(A,deltax,deltat):\n",
    "\n",
    "    h = len(A)\n",
    "    #CFL condition delta x => sqrt(D) delta t, where D is the number of dimensions            \n",
    "    P = np.zeros((h,h))\n",
    "    result = np.zeros((h,h))\n",
    "    \n",
    "    for i in range(0, h):\n",
    "        for j in range(0,h):\n",
    "            P[i,j] = (-A[(i+2)%h,j] + 16*A[(i+1)%h,j] + 16*A[(i-1)%h,j] -A[(i-2)%h,j] \\\n",
    "                 -A[i,(j+2)%h] + 16*A[i,(j+1)%h]  + 16*A[i,(j-1)%h] -A[i,(j-2)%h] - 60*A[i,j])/(12*pow(deltax,2))\n",
    "\n",
    "  \n",
    "    return P \n",
    "\n",
    "\n",
    "\n",
    "def update(N,A1,A2,pA1,pA2,vel1,vel2,omega,eta,deltax,deltat,a,time):\n",
    "    a1 = 1.71541177447862e-5 * time ** (0.2530363118519119)\n",
    "    deltaa = a1-a\n",
    "    da_dt_a = deltaa/deltat/a1 \n",
    "    dA1 = (A1 - pA1)/deltat\n",
    "    dA2 = (A2 - pA2)/deltat\n",
    "    lam = 2*pow(math.pi,2)/pow(omega,2)\n",
    "    \n",
    "    pA1,pA2 = A1,A2\n",
    "    \n",
    "    F1 = Laplacian(A1,deltax,deltat) - lam*A1*(pow(A1,2)+pow(A2,2)-pow(eta,2))-3*da_dt_a*dA1\n",
    "    F2 = Laplacian(A2,deltax,deltat) - lam*A2*(pow(A1,2)+pow(A2,2)-pow(eta,2)) -3*da_dt_a*dA2\n",
    "    \n",
    "    time = time + deltat\n",
    "    \n",
    "    a2 = 1.71541177447862e-5 * time ** (0.2530363118519119)\n",
    "    deltaa = a2-a1\n",
    "    da_dt_a = deltaa/deltat/a2 \n",
    "    \n",
    "    \n",
    "    A1 = A1 + deltat*(vel1 + 0.5*deltat*F1) \n",
    "    A2 = A2 + deltat*(vel2 + 0.5*deltat*F2) \n",
    "    \n",
    "    dA1 = (A1 - pA1)/deltat\n",
    "    dA2 = (A2 - pA2)/deltat\n",
    "    \n",
    "    vel1 = vel1 + deltat/2*(F1 + Laplacian(A1,deltax,deltat) - lam*A1*(pow(A1,2)+pow(A2,2)-pow(eta,2)) -3*da_dt_a*dA1) \n",
    "    vel2 = vel2 + deltat/2*(F2 + Laplacian(A2,deltax,deltat) - lam*A2*(pow(A1,2)+pow(A2,2)-pow(eta,2)) -3*da_dt_a*dA2)\n",
    "    \n",
    "    \n",
    "    return A1,A2,vel1,vel2,a1,time,pA1,pA2\n",
    "    \n",
    "#change the values accordlingly    \n",
    "def wolff(N,t0,t,A1,A2,vel,omega,eta,deltax,deltat):\n",
    "\n",
    "    time = t0\n",
    "    pA1 = np.zeros((N,N))\n",
    "    pA2 = np.zeros((N,N))\n",
    "    vel1 = vel\n",
    "    vel2 = vel\n",
    "    a = 1.71541177447862e-5 * time ** (0.2530363118519119)\n",
    "\n",
    "\n",
    "    for i in np.arange(int(t/deltat)):\n",
    "        time = round(time,1)\n",
    "        \n",
    "        if time % 1 == 0:\n",
    "\n",
    "        \n",
    "            plt.imsave('1259/'+str(int(time)).zfill(3)+'.png',np.sqrt(pow(A1,2)+pow(A2,2)),vmin = 0, vmax = eta,cmap = 'Greys')\n",
    "            plt.imsave('1262/'+str(int(time)).zfill(3)+'.png',np.arctan2(A2,A1),vmin = -1*math.pi, vmax = math.pi,cmap = 'twilight')\n",
    "\n",
    "        A1,A2,vel1,vel2,a,time,pA1,pA2 = update(N,A1,A2,pA1,pA2,vel1,vel2,omega,eta,deltax,deltat,a,time)\n",
    "\n",
    "\n",
    "    return A1,A2"
   ]
  },
  {
   "cell_type": "code",
   "execution_count": 173,
   "id": "83a1e0b0",
   "metadata": {},
   "outputs": [],
   "source": [
    "@jit(nopython = True)\n",
    "def Laplacian(A,deltax,deltat):\n",
    "\n",
    "    h = len(A)\n",
    "    #CFL condition delta x => sqrt(D) delta t, where D is the number of dimensions            \n",
    "    P = np.zeros((h,h))\n",
    "    result = np.zeros((h,h))\n",
    "    \n",
    "    for i in range(0, h):\n",
    "        for j in range(0,h):\n",
    "            P[i,j] = (-A[(i+2)%h,j] + 16*A[(i+1)%h,j] + 16*A[(i-1)%h,j] -A[(i-2)%h,j] \\\n",
    "                 -A[i,(j+2)%h] + 16*A[i,(j+1)%h]  + 16*A[i,(j-1)%h] -A[i,(j-2)%h] - 60*A[i,j])/(12*pow(deltax,2))\n",
    "\n",
    "  \n",
    "    return P \n",
    "\n",
    "\n",
    "\n",
    "def update(N,A1,A2,pA1,pA2,vel1,vel2,omega,eta,deltax,deltat,a,time):\n",
    "    a1 = 1.71541177447862e-5 * time ** (0.2530363118519119)\n",
    "    beta = 0\n",
    "    alpha = 3\n",
    "    deltaa = np.log(a1)-np.log(a)\n",
    "    ln_da_dt = deltaa/np.log(deltat) \n",
    "    dA1 = (A1 - pA1)/deltat\n",
    "    dA2 = (A2 - pA2)/deltat\n",
    "    lam = 2*pow(math.pi,2)/pow(omega,2)\n",
    "    \n",
    "    pA1,pA2 = A1,A2\n",
    "    \n",
    "    F1 = Laplacian(A1,deltax,deltat) - a**beta * lam*A1*(pow(A1,2)+pow(A2,2)-pow(eta,2))-alpha*ln_da_dt*dA1\n",
    "    F2 = Laplacian(A2,deltax,deltat) - a**beta * lam*A2*(pow(A1,2)+pow(A2,2)-pow(eta,2))-alpha*ln_da_dt*dA2\n",
    "    \n",
    "    time = time + deltat\n",
    "    \n",
    "    a2 = 1.71541177447862e-5 * time ** (0.2530363118519119)\n",
    "    deltaa = np.log(a2)-np.log(a1)\n",
    "    ln_da_dt = deltaa/np.log(deltat) \n",
    "    \n",
    "    A1 = A1 + deltat*(vel1 + 0.5*deltat*F1) \n",
    "    A2 = A2 + deltat*(vel2 + 0.5*deltat*F2) \n",
    "    \n",
    "    dA1 = (A1 - pA1)/deltat\n",
    "    dA2 = (A2 - pA2)/deltat\n",
    "    \n",
    "    vel1 = vel1 + deltat/2*(F1 + Laplacian(A1,deltax,deltat) - a**beta *lam*A1*(pow(A1,2)+pow(A2,2)-pow(eta,2)) -alpha*ln_da_dt*dA1) \n",
    "    vel2 = vel2 + deltat/2*(F2 + Laplacian(A2,deltax,deltat) - a**beta *lam*A2*(pow(A1,2)+pow(A2,2)-pow(eta,2)) -alpha*ln_da_dt*dA2)\n",
    "    \n",
    "    \n",
    "    return A1,A2,vel1,vel2,a1,time,pA1,pA2\n",
    "    \n",
    "#change the values accordlingly    \n",
    "def wolff(N,t0,t,A1,A2,vel,omega,eta,deltax,deltat):\n",
    "\n",
    "    time = t0\n",
    "    pA1 = np.zeros((N,N))\n",
    "    pA2 = np.zeros((N,N))\n",
    "    vel1 = vel\n",
    "    vel2 = vel\n",
    "    a = 1.71541177447862e-5 * time ** (0.2530363118519119)\n",
    "\n",
    "\n",
    "    for i in np.arange(int(t/deltat)):\n",
    "        time = round(time,1)\n",
    "        \n",
    "        if time % 1 == 0:\n",
    "\n",
    "        \n",
    "            plt.imsave('1258/'+str(int(time)).zfill(3)+'.png',np.sqrt(pow(A1,2)+pow(A2,2)),vmin = 0, vmax = eta,cmap = 'Greys')\n",
    "            plt.imsave('1261/'+str(int(time)).zfill(3)+'.png',np.arctan2(A2,A1),vmin = -1*math.pi, vmax = math.pi,cmap = 'twilight')\n",
    "\n",
    "        A1,A2,vel1,vel2,a,time,pA1,pA2 = update(N,A1,A2,pA1,pA2,vel1,vel2,omega,eta,deltax,deltat,a,time)\n",
    "\n",
    "\n",
    "    return A1,A2"
   ]
  },
  {
   "cell_type": "code",
   "execution_count": null,
   "id": "e9ec759b",
   "metadata": {},
   "outputs": [],
   "source": []
  },
  {
   "cell_type": "code",
   "execution_count": null,
   "id": "e6a8385d",
   "metadata": {},
   "outputs": [
    {
     "name": "stdout",
     "output_type": "stream",
     "text": [
      "2560.0\n"
     ]
    }
   ],
   "source": [
    "start = time.time()\n",
    "\n",
    "\n",
    "n = 9\n",
    "deltax = 1\n",
    "deltat = 0.1\n",
    "eta = 1\n",
    "N = pow(2,n)\n",
    "t = 0.5*N*deltax/deltat # light crossing time\n",
    "t0 = 0.1\n",
    "t2 = t/2 # half time\n",
    "t5 = t/5\n",
    "t10 = t/10 # 1/10 of the ligth crossing time\n",
    "\n",
    "vel = np.zeros((N,N))\n",
    "mu, sigma = 0, 0.1 # mean and standard deviation\n",
    "omega = 5\n",
    "\n",
    "print(t)\n",
    "\n",
    "\n",
    "\n",
    "A1 = np.random.normal(mu, sigma, size=(N, N))\n",
    "A2 = np.random.normal(mu,sigma,size=(N,N))\n",
    "\n",
    "A1,A2 = wolff(N,t0,t5,A1,A2,vel,omega,eta,deltax,deltat)\n",
    "\n",
    "end = time.time()\n",
    "print(end - start)"
   ]
  },
  {
   "cell_type": "code",
   "execution_count": null,
   "id": "5fdd94f9",
   "metadata": {},
   "outputs": [],
   "source": []
  },
  {
   "cell_type": "code",
   "execution_count": 5,
   "id": "ff23c5bb",
   "metadata": {
    "scrolled": true
   },
   "outputs": [
    {
     "data": {
      "text/plain": [
       "array([[0., 0., 0., 0., 0., 0., 0., 0., 0., 0.],\n",
       "       [0., 0., 0., 0., 0., 0., 0., 0., 0., 0.],\n",
       "       [0., 0., 0., 0., 0., 0., 0., 0., 0., 0.],\n",
       "       [0., 0., 0., 0., 0., 0., 0., 0., 0., 0.],\n",
       "       [0., 0., 0., 0., 0., 0., 0., 0., 0., 0.],\n",
       "       [0., 0., 0., 0., 0., 0., 0., 0., 0., 0.],\n",
       "       [0., 0., 0., 0., 0., 0., 0., 0., 0., 0.],\n",
       "       [0., 0., 0., 0., 0., 0., 0., 0., 0., 0.],\n",
       "       [0., 0., 0., 0., 0., 0., 0., 0., 0., 0.],\n",
       "       [0., 0., 0., 0., 0., 0., 0., 0., 0., 0.]])"
      ]
     },
     "execution_count": 5,
     "metadata": {},
     "output_type": "execute_result"
    }
   ],
   "source": [
    "Laplacian(np.zeros((10,10)),1,0.1)"
   ]
  },
  {
   "cell_type": "code",
   "execution_count": 35,
   "id": "0f7c450b",
   "metadata": {},
   "outputs": [
    {
     "data": {
      "text/plain": [
       "(1.1178179380783253, 7.866317216380692e-09)"
      ]
     },
     "execution_count": 35,
     "metadata": {},
     "output_type": "execute_result"
    }
   ],
   "source": [
    "import scipy.integrate as integrate\n",
    "\n",
    "import scipy.special as special\n",
    "\n",
    "result = integrate.quad(lambda x: special.jv(2.5,x), 0, 4.5)\n",
    "\n",
    "result"
   ]
  },
  {
   "cell_type": "code",
   "execution_count": 129,
   "id": "893bf4d9",
   "metadata": {},
   "outputs": [],
   "source": [
    "H_0 = 2.18e-18\n",
    "omega_r = 9.24e-5\n",
    "omega_m = 0.315\n",
    "omega_lambda = 0.685\n",
    "omega_k = 0\n",
    "time = []\n",
    "Hubble = []\n",
    "a = np.linspace(1e-6,1.5e-4,100000)\n",
    "a = np.around(a,6)\n",
    "\n",
    "                         \n",
    "for i in range(0,len(a)):\n",
    "    H = H_0 * np.sqrt(omega_r * pow(a[i],-4) + omega_m * pow(a[i],-3) + omega_k * pow(a[i],-2) + omega_lambda)\n",
    "    integrand = lambda x: x/(np.sqrt(omega_r * pow(x,-4) + omega_m * pow(x,-3) + omega_k * pow(x,-2) + omega_lambda))\n",
    "    t= integrate.quad(integrand,0,a[i])\n",
    "    time.append(t[0]/H_0)\n",
    "    Hubble.append(H)"
   ]
  },
  {
   "cell_type": "code",
   "execution_count": 130,
   "id": "4cff79a8",
   "metadata": {},
   "outputs": [
    {
     "name": "stdout",
     "output_type": "stream",
     "text": [
      "5095.073942873085\n"
     ]
    },
    {
     "data": {
      "image/png": "[encoded data removed]",
      "text/plain": [
       "<Figure size 432x288 with 1 Axes>"
      ]
     },
     "metadata": {
      "needs_background": "light"
     },
     "output_type": "display_data"
    }
   ],
   "source": [
    "plt.plot(time,a)\n",
    "print(time[-1])\n"
   ]
  },
  {
   "cell_type": "code",
   "execution_count": 131,
   "id": "c04036b5",
   "metadata": {},
   "outputs": [],
   "source": [
    "import pandas as pd\n",
    "\n",
    "dict = {'time (t)': time, 'Scale factor (a)': a, 'Hubble Parameter (H)': Hubble}\n",
    "df = pd.DataFrame(dict)\n",
    "df.to_csv('Integrations.csv')"
   ]
  },
  {
   "cell_type": "code",
   "execution_count": 132,
   "id": "b6225536",
   "metadata": {},
   "outputs": [
    {
     "data": {
      "text/plain": [
       "[<matplotlib.lines.Line2D at 0x7fbd54f9be20>]"
      ]
     },
     "execution_count": 132,
     "metadata": {},
     "output_type": "execute_result"
    },
    {
     "data": {
      "image/png": "[encoded data removed]",
      "text/plain": [
       "<Figure size 432x288 with 1 Axes>"
      ]
     },
     "metadata": {
      "needs_background": "light"
     },
     "output_type": "display_data"
    }
   ],
   "source": [
    "x = np.linspace(1e-5,1,10000)\n",
    "y = 1.71541177447862e-5 * x ** (0.2530363118519119)\n",
    "plt.plot(x,y)"
   ]
  },
  {
   "cell_type": "code",
   "execution_count": null,
   "id": "4d2e05bf",
   "metadata": {},
   "outputs": [],
   "source": []
  }
 ],
 "metadata": {
  "kernelspec": {
   "display_name": "Python 3",
   "language": "python",
   "name": "python3"
  },
  "language_info": {
   "codemirror_mode": {
    "name": "ipython",
    "version": 3
   },
   "file_extension": ".py",
   "mimetype": "text/x-python",
   "name": "python",
   "nbconvert_exporter": "python",
   "pygments_lexer": "ipython3",
   "version": "3.8.5"
  }
 },
 "nbformat": 4,
 "nbformat_minor": 5
}
