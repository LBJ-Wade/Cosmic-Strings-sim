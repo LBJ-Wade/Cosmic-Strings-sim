{
 "cells": [
  {
   "cell_type": "code",
   "execution_count": 17,
   "id": "4ecb289b",
   "metadata": {},
   "outputs": [],
   "source": [
    "%matplotlib inline\n",
    "from matplotlib import pyplot as plt\n",
    "import numpy as np\n",
    "import matplotlib \n",
    "from PIL import Image\n",
    "import PIL\n",
    "import math\n",
    "from random import random\n",
    "from random import seed\n",
    "from random import randint\n",
    "import time\n",
    "from numba import jit"
   ]
  },
  {
   "cell_type": "code",
   "execution_count": 14,
   "id": "73b6e49b",
   "metadata": {},
   "outputs": [],
   "source": [
    "@jit(nopython = True)\n",
    "def Laplacian(A,deltax,deltat):\n",
    "\n",
    "    h = len(A)\n",
    "    #CFL condition delta x => sqrt(D) delta t, where D is the number of dimensions            \n",
    "    P = np.zeros((h,h))\n",
    "    result = np.zeros((h,h))\n",
    "    \n",
    "    for i in range(0, h):\n",
    "        for j in range(0,h):\n",
    "            P[i,j] = (-A[(i+2)%h,j] + 16*A[(i+1)%h,j] + 16*A[(i-1)%h,j] -A[(i-2)%h,j] \\\n",
    "                 -A[i,(j+2)%h] + 16*A[i,(j+1)%h]  + 16*A[i,(j-1)%h] -A[i,(j-2)%h] - 60*A[i,j])/(12*pow(deltax,2))\n",
    "\n",
    "  \n",
    "    return P \n",
    "\n",
    "def damping(t,K_damp):\n",
    "    Damping = np.zeros(shape=int(t/deltat))\n",
    "    Damping[0:1000] = 1*K_damp\n",
    "    return Damping\n",
    "\n",
    "\n",
    "def update(N,A1,A2,vel1,vel2,omega,eta,deltax,deltat,index,Damping):\n",
    "    lam = 2*pow(math.pi,2)/pow(omega,2)\n",
    "    \n",
    "    F1 = Laplacian(A1,deltax,deltat) - lam*A1*(pow(A1,2)+pow(A2,2)-pow(eta,2)) - Damping[int(index)]*vel1\n",
    "    F2 = Laplacian(A2,deltax,deltat) - lam*A2*(pow(A1,2)+pow(A2,2)-pow(eta,2)) - Damping[int(index)]*vel2\n",
    "    \n",
    "    B1 = A1\n",
    "    \n",
    "    A1 = A1 + deltat*(vel1 + 0.5*deltat*F1) \n",
    "    A2 = A2 + deltat*(vel2 + 0.5*deltat*F2) \n",
    "    \n",
    "    vel1 = vel1 + deltat/2*(F1 + Laplacian(A1,deltax,deltat) - lam*A1*(pow(A1,2)+pow(A2,2)-pow(eta,2)) - Damping[int(index)]*vel1) \n",
    "    vel2 = vel2 + deltat/2*(F2 + Laplacian(A2,deltax,deltat) - lam*A2*(pow(A1,2)+pow(A2,2)-pow(eta,2)) - Damping[int(index)]*vel2)\n",
    "    return A1,A2,vel1,vel2\n",
    "    \n",
    "#change the values accordlingly    \n",
    "def wolff(N,t,A1,A2,vel,omega,eta,deltax,deltat,K_damp):\n",
    "\n",
    "    Damping = damping(t,K_damp)\n",
    "\n",
    "\n",
    "    vel1 = vel\n",
    "    vel2 = vel\n",
    "\n",
    "\n",
    "    for i in np.arange(int(t/deltat)):\n",
    "        if i % 10 == 0:\n",
    "\n",
    "        \n",
    "            plt.imsave('258/'+str(int(round((i*deltat),1))).zfill(3)+'.png',np.sqrt(pow(A1,2)+pow(A2,2)),vmin = 0, vmax = eta,cmap = 'Greys')\n",
    "            plt.imsave('261/'+str(int(round((i*deltat),1))).zfill(3)+'.png',np.arctan2(A2,A1),vmin = -1*math.pi, vmax = math.pi,cmap = 'twilight')\n",
    "        A1,A2,vel1,vel2 = update(N,A1,A2,vel1,vel2,omega,eta,deltax,deltat,i,Damping)\n",
    "\n",
    "    return A1,A2"
   ]
  },
  {
   "cell_type": "code",
   "execution_count": 29,
   "id": "238d750a",
   "metadata": {},
   "outputs": [],
   "source": [
    "@jit(nopython = True)\n",
    "def Laplacian(A,deltax,deltat):\n",
    "\n",
    "    h = len(A)\n",
    "    #CFL condition delta x => sqrt(D) delta t, where D is the number of dimensions            \n",
    "    P = np.zeros((h,h))\n",
    "    result = np.zeros((h,h))\n",
    "    \n",
    "    for i in range(0, h):\n",
    "        for j in range(0,h):\n",
    "            P[i,j] = (-A[(i+2)%h,j] + 16*A[(i+1)%h,j] + 16*A[(i-1)%h,j] -A[(i-2)%h,j] \\\n",
    "                 -A[i,(j+2)%h] + 16*A[i,(j+1)%h]  + 16*A[i,(j-1)%h] -A[i,(j-2)%h] - 60*A[i,j])/(12*pow(deltax,2))\n",
    "\n",
    "  \n",
    "    return P \n",
    "\n",
    "\n",
    "\n",
    "def update(N,A1,A2,vel1,vel2,omega,eta,deltax,deltat,a):\n",
    "    da_dt_a = 1e-3/a \n",
    "    lam = 2*pow(math.pi,2)/pow(omega,2)\n",
    "    \n",
    "    F1 = Laplacian(A1,deltax,deltat) - lam*A1*(pow(A1,2)+pow(A2,2)-pow(eta,2))#-3*da_dt_a\n",
    "    F2 = Laplacian(A2,deltax,deltat) - lam*A2*(pow(A1,2)+pow(A2,2)-pow(eta,2)) #-3*da_dt_a\n",
    "    \n",
    "    B1 = A1\n",
    "    \n",
    "    A1 = A1 + deltat*(vel1 + 0.5*deltat*F1) \n",
    "    A2 = A2 + deltat*(vel2 + 0.5*deltat*F2) \n",
    "    \n",
    "    vel1 = vel1 + deltat/2*(F1 + Laplacian(A1,deltax,deltat) - lam*A1*(pow(A1,2)+pow(A2,2)-pow(eta,2)) ) \n",
    "    vel2 = vel2 + deltat/2*(F2 + Laplacian(A2,deltax,deltat) - lam*A2*(pow(A1,2)+pow(A2,2)-pow(eta,2)) )\n",
    "    a = a + 1e-4\n",
    "    return A1,A2,vel1,vel2\n",
    "    \n",
    "#change the values accordlingly    \n",
    "def wolff(N,t,A1,A2,vel,omega,eta,deltax,deltat,a):\n",
    "\n",
    "\n",
    "\n",
    "    vel1 = vel\n",
    "    vel2 = vel\n",
    "\n",
    "\n",
    "    for i in np.arange(int(t/deltat)):\n",
    "        if i % 10 == 0:\n",
    "\n",
    "        \n",
    "            plt.imsave('259/'+str(int(round((i*deltat),1))).zfill(3)+'.png',np.sqrt(pow(A1,2)+pow(A2,2)),vmin = 0, vmax = eta,cmap = 'Greys')\n",
    "            plt.imsave('260/'+str(int(round((i*deltat),1))).zfill(3)+'.png',np.arctan2(A2,A1),vmin = -1*math.pi, vmax = math.pi,cmap = 'twilight')\n",
    "        A1,A2,vel1,vel2 = update(N,A1,A2,vel1,vel2,omega,eta,deltax,deltat,a)\n",
    "\n",
    "    return A1,A2"
   ]
  },
  {
   "cell_type": "code",
   "execution_count": null,
   "id": "24b626a3",
   "metadata": {},
   "outputs": [],
   "source": []
  },
  {
   "cell_type": "code",
   "execution_count": 30,
   "id": "33fd4f2d",
   "metadata": {},
   "outputs": [
    {
     "name": "stdout",
     "output_type": "stream",
     "text": [
      "1280.0\n",
      "34.67870473861694\n"
     ]
    }
   ],
   "source": [
    "start = time.time()\n",
    "\n",
    "K_damp = 1\n",
    "n = 8\n",
    "deltax = 1\n",
    "deltat = 0.1\n",
    "eta = 1\n",
    "N = pow(2,n)\n",
    "a = 1e-4\n",
    "t = 0.5*N*deltax/deltat # light crossing time\n",
    "t2 = t/2 # half time\n",
    "t5 = t/5\n",
    "t10 = t/10 # 1/10 of the ligth crossing time\n",
    "\n",
    "vel = np.zeros((N,N))\n",
    "mu, sigma = 0, 0.1 # mean and standard deviation\n",
    "omega = 5\n",
    "\n",
    "print(t)\n",
    "\n",
    "\n",
    "\n",
    "A1 = np.random.normal(mu, sigma, size=(N, N))\n",
    "A2 = np.random.normal(mu,sigma,size=(N,N))\n",
    "#A1,A2 = wolff(N,t5,A1,A2,vel,omega,eta,deltax,deltat,K_damp)\n",
    "A1,A2 = wolff(N,t5,A1,A2,vel,omega,eta,deltax,deltat,a)\n",
    "\n",
    "end = time.time()\n",
    "print(end - start)"
   ]
  },
  {
   "cell_type": "code",
   "execution_count": null,
   "id": "97cc891d",
   "metadata": {},
   "outputs": [],
   "source": []
  },
  {
   "cell_type": "code",
   "execution_count": 5,
   "id": "3bdcff99",
   "metadata": {
    "scrolled": true
   },
   "outputs": [
    {
     "data": {
      "text/plain": [
       "array([[0., 0., 0., 0., 0., 0., 0., 0., 0., 0.],\n",
       "       [0., 0., 0., 0., 0., 0., 0., 0., 0., 0.],\n",
       "       [0., 0., 0., 0., 0., 0., 0., 0., 0., 0.],\n",
       "       [0., 0., 0., 0., 0., 0., 0., 0., 0., 0.],\n",
       "       [0., 0., 0., 0., 0., 0., 0., 0., 0., 0.],\n",
       "       [0., 0., 0., 0., 0., 0., 0., 0., 0., 0.],\n",
       "       [0., 0., 0., 0., 0., 0., 0., 0., 0., 0.],\n",
       "       [0., 0., 0., 0., 0., 0., 0., 0., 0., 0.],\n",
       "       [0., 0., 0., 0., 0., 0., 0., 0., 0., 0.],\n",
       "       [0., 0., 0., 0., 0., 0., 0., 0., 0., 0.]])"
      ]
     },
     "execution_count": 5,
     "metadata": {},
     "output_type": "execute_result"
    }
   ],
   "source": [
    "Laplacian(np.zeros((10,10)),1,0.1)"
   ]
  },
  {
   "cell_type": "code",
   "execution_count": 31,
   "id": "25f0b7e6",
   "metadata": {},
   "outputs": [
    {
     "data": {
      "text/plain": [
       "(1.1178179380783253, 7.866317216380692e-09)"
      ]
     },
     "execution_count": 31,
     "metadata": {},
     "output_type": "execute_result"
    }
   ],
   "source": [
    "import scipy.integrate as integrate\n",
    "\n",
    "import scipy.special as special\n",
    "\n",
    "result = integrate.quad(lambda x: special.jv(2.5,x), 0, 4.5)\n",
    "\n",
    "result"
   ]
  },
  {
   "cell_type": "code",
   "execution_count": null,
   "id": "85db2f8a",
   "metadata": {},
   "outputs": [],
   "source": [
    "H_0 = 2.18e-18\n",
    "omega_r = 9.24e-5\n",
    "omega_m = 0.315\n",
    "omega_lambda = 0.685\n",
    "omega_k = 0\n",
    "H = H_0 * np.sqrt(omega_r * pow(a,-4) + omega_m * pow(a,-3) + omega_k * pow(a,-2) + omega_lambda)\n",
    "t = 1/H_0 * integrate.quad(x/(np.sqrt(omega_r * pow(x,-4) + omega_m * pow(x,-3) + omega_k * pow(x,-2) + omega_lambda),0,a))"
   ]
  }
 ],
 "metadata": {
  "kernelspec": {
   "display_name": "Python 3",
   "language": "python",
   "name": "python3"
  },
  "language_info": {
   "codemirror_mode": {
    "name": "ipython",
    "version": 3
   },
   "file_extension": ".py",
   "mimetype": "text/x-python",
   "name": "python",
   "nbconvert_exporter": "python",
   "pygments_lexer": "ipython3",
   "version": "3.8.5"
  }
 },
 "nbformat": 4,
 "nbformat_minor": 5
}
