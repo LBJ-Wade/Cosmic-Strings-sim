{
 "cells": [
  {
   "cell_type": "code",
   "execution_count": 1,
   "metadata": {},
   "outputs": [],
   "source": [
    "%matplotlib inline\n",
    "from matplotlib import pyplot as plt\n",
    "import numpy as np\n",
    "import matplotlib \n",
    "from PIL import Image\n",
    "import PIL\n",
    "import math\n",
    "from random import random\n",
    "from random import seed\n",
    "from random import randint\n",
    "import time\n",
    "from numba import jit\n",
    "import skimage"
   ]
  },
  {
   "cell_type": "code",
   "execution_count": 9,
   "metadata": {},
   "outputs": [],
   "source": [
    "@jit(nopython = True)\n",
    "    \n",
    "def Laplacian(A,deltax,deltat):\n",
    "\n",
    "    h = len(A)\n",
    "    #CFL condition delta x => sqrt(D) delta t, where D is the number of dimensions            \n",
    "    P = np.zeros((h,h))\n",
    "    result = np.zeros((h,h))\n",
    "    \n",
    "    for i in range(0, h):\n",
    "        for j in range(0,h):\n",
    "            P[i,j] = (-A[(i+2)%h,j] + 16*A[(i+1)%h,j] + 16*A[(i-1)%h,j] -A[(i-2)%h,j] \\\n",
    "                 -A[i,(j+2)%h] + 16*A[i,(j+1)%h]  + 16*A[i,(j-1)%h] -A[i,(j-2)%h] - 60*A[i,j])/(12*pow(deltax,2))\n",
    "\n",
    "  \n",
    "    return P \n",
    "\n",
    "def damping(t,K_damp):\n",
    "    Damping = np.zeros(shape=int(t/deltat))\n",
    "    Damping[0:200] = 1*K_damp\n",
    "    return Damping\n",
    "\n",
    "def div_potential_1(A1,A2,omega,eta):\n",
    "    lam = 2*pow(math.pi,2)/pow(omega,2)\n",
    "    pot = lam*A1*(pow(A1,2)+pow(A2,2)-pow(eta,2))\n",
    "    return pot\n",
    "\n",
    "def div_potential_2(A1,A2,omega,eta):\n",
    "    lam = 2*pow(math.pi,2)/pow(omega,2)\n",
    "    pot = lam*A2*(pow(A1,2)+pow(A2,2)-pow(eta,2))\n",
    "    return pot\n",
    "    \n",
    "def function_1(A1,A2,vel1,omega,eta,deltax,deltat,index,Damping):\n",
    "    F = np.subtract(Laplacian(A1,deltax,deltat),div_potential_1(A1,A2,omega,eta)) - Damping[int(index)]*vel1\n",
    "    return F\n",
    "\n",
    "def function_2(A1,A2,vel2,omega,eta,deltax,deltat,index,Damping):\n",
    "    F = np.subtract(Laplacian(A2,deltax,deltat),div_potential_2(A1,A2,omega,eta)) - Damping[int(index)]*vel2\n",
    "    return F\n",
    "\n",
    "def update(N,A1,A2,vel1,vel2,omega,eta,deltax,deltat,index,Damping):\n",
    "    F1 = function_1(A1,A2,vel1,omega,eta,deltax,deltat,index,Damping)\n",
    "    F2 = function_2(A1,A2,vel2,omega,eta,deltax,deltat,index,Damping)\n",
    "    \n",
    "    B1 = A1\n",
    "    \n",
    "    A1 = A1 + deltat*(vel1 + 0.5*deltat*function_1(A1,A2,vel1,omega,eta,deltax,deltat,index,Damping)) \n",
    "    A2 = A2 + deltat*(vel2 + 0.5*deltat*function_2(B1,A2,vel2,omega,eta,deltax,deltat,index,Damping)) \n",
    "    \n",
    "    vel1 = vel1 + deltat/2*(F1 + function_1(A1,A2,vel1,omega,eta,deltax,deltat,index,Damping)) \n",
    "    vel2 = vel2 + deltat/2*(F2 + function_2(A1,A2,vel2,omega,eta,deltax,deltat,index,Damping))\n",
    "    return A1,A2,vel1,vel2\n",
    "    \n",
    "#change the values accordlingly    \n",
    "def wolff(N,t,A1,A2,vel,omega,eta,deltax,deltat,K_damp):\n",
    "\n",
    "    Damping = damping(t,K_damp)\n",
    "\n",
    "    vel1 = vel\n",
    "    vel2 = vel\n",
    "    \n",
    "\n",
    "    for i in np.arange(int(t/deltat)):\n",
    "        plt.imsave(str(round((i*deltat),1))+'.png',np.sqrt(pow(A1,2)+pow(A2,2)),vmin = 0, vmax = 1.5*eta,cmap = 'Greys')\n",
    "        plt.imsave(str(round((i*deltat),1))+'a.png',np.arctan2(A2,A1),vmin = -1*math.pi, vmax = math.pi,cmap = 'twilight')\n",
    "        A1,A2,vel1,vel2 = update(N,A1,A2,vel1,vel2,omega,eta,deltax,deltat,i,Damping)\n",
    "        \n",
    "        \n",
    "    return A1,A2\n"
   ]
  },
  {
   "cell_type": "code",
   "execution_count": null,
   "metadata": {},
   "outputs": [],
   "source": []
  },
  {
   "cell_type": "code",
   "execution_count": 10,
   "metadata": {},
   "outputs": [
    {
     "name": "stdout",
     "output_type": "stream",
     "text": [
      "126.1871931552887\n"
     ]
    }
   ],
   "source": [
    "start = time.time()\n",
    "\n",
    "K_damp = 1\n",
    "n = 7\n",
    "deltax = 1\n",
    "deltat = 0.1\n",
    "eta = 1\n",
    "N = pow(2,n)\n",
    "t = 0.5*N*deltax/deltat # light crossing time\n",
    "#t10 = t/10 # 1/10 of the ligth crossing time\n",
    "vel = np.zeros((N,N))\n",
    "mu, sigma = 0, 0.1 # mean and standard deviation\n",
    "omega = 5\n",
    "\n",
    "A1 = np.random.normal(mu, sigma, size=(N, N))\n",
    "A2 = np.random.normal(mu,sigma,size=(N,N))\n",
    "#A = np.random.randn(N, 2*N).view(np.complex128)   \n",
    "\n",
    "A1,A2 = wolff(N,t,A1,A2,vel,omega,eta,deltax,deltat,K_damp)\n",
    "\n",
    "\n",
    "\n",
    "end = time.time()\n",
    "print(end - start)"
   ]
  },
  {
   "cell_type": "code",
   "execution_count": 3,
   "metadata": {},
   "outputs": [
    {
     "data": {
      "text/plain": [
       "array([[0., 0., 0., 0., 0., 0., 0., 0., 0., 0.],\n",
       "       [0., 0., 0., 0., 0., 0., 0., 0., 0., 0.],\n",
       "       [0., 0., 0., 0., 0., 0., 0., 0., 0., 0.],\n",
       "       [0., 0., 0., 0., 0., 0., 0., 0., 0., 0.],\n",
       "       [0., 0., 0., 0., 0., 0., 0., 0., 0., 0.],\n",
       "       [0., 0., 0., 0., 0., 0., 0., 0., 0., 0.],\n",
       "       [0., 0., 0., 0., 0., 0., 0., 0., 0., 0.],\n",
       "       [0., 0., 0., 0., 0., 0., 0., 0., 0., 0.],\n",
       "       [0., 0., 0., 0., 0., 0., 0., 0., 0., 0.],\n",
       "       [0., 0., 0., 0., 0., 0., 0., 0., 0., 0.]])"
      ]
     },
     "execution_count": 3,
     "metadata": {},
     "output_type": "execute_result"
    }
   ],
   "source": [
    "Laplacian(np.zeros((10,10)),1,0.1)"
   ]
  },
  {
   "cell_type": "code",
   "execution_count": null,
   "metadata": {},
   "outputs": [],
   "source": []
  }
 ],
 "metadata": {
  "kernelspec": {
   "display_name": "Python 3",
   "language": "python",
   "name": "python3"
  },
  "language_info": {
   "codemirror_mode": {
    "name": "ipython",
    "version": 3
   },
   "file_extension": ".py",
   "mimetype": "text/x-python",
   "name": "python",
   "nbconvert_exporter": "python",
   "pygments_lexer": "ipython3",
   "version": "3.8.3"
  }
 },
 "nbformat": 4,
 "nbformat_minor": 4
}
