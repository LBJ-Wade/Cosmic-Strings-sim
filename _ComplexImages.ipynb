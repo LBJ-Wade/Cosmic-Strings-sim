{
 "cells": [
  {
   "cell_type": "code",
   "execution_count": 2,
   "metadata": {},
   "outputs": [],
   "source": [
    "%matplotlib inline\n",
    "from matplotlib import pyplot as plt\n",
    "import numpy as np\n",
    "import matplotlib \n",
    "from PIL import Image\n",
    "import PIL\n",
    "import math\n",
    "from random import random\n",
    "from random import seed\n",
    "from random import randint\n",
    "import time\n",
    "from numba import jit\n",
    "import skimage"
   ]
  },
  {
   "cell_type": "code",
   "execution_count": 15,
   "metadata": {},
   "outputs": [],
   "source": [
    "@jit(nopython = True)\n",
    "    \n",
    "def Laplacian(A,deltax,deltat):\n",
    "\n",
    "    h = len(A)\n",
    "    #CFL condition delta x => sqrt(D) delta t, where D is the number of dimensions            \n",
    "    P = np.zeros((h,h))\n",
    "    result = np.zeros((h,h))\n",
    "    \n",
    "    for i in range(0, h):\n",
    "        for j in range(0,h):\n",
    "            P[i,j] = (-A[(i+2)%h,j] + 16*A[(i+1)%h,j] + 16*A[(i-1)%h,j] -A[(i-2)%h,j] \\\n",
    "                 -A[i,(j+2)%h] + 16*A[i,(j+1)%h]  + 16*A[i,(j-1)%h] -A[i,(j-2)%h] - 60*A[i,j])/(12*pow(deltax,2))\n",
    "\n",
    "  \n",
    "    return P \n",
    "\n",
    "def damping(t,K_damp):\n",
    "    Damping = np.zeros(shape=int(t/deltat))\n",
    "    Damping[0:200] = 1*K_damp\n",
    "    return Damping\n",
    "\n",
    "def div_potential_1(A1,A2,omega,eta):\n",
    "    lam = 2*pow(math.pi,2)/pow(omega,2)\n",
    "    pot = lam*A1*(pow(A1,2)+pow(A2,2)-pow(eta,2))\n",
    "    return pot\n",
    "\n",
    "def div_potential_2(A1,A2,omega,eta):\n",
    "    lam = 2*pow(math.pi,2)/pow(omega,2)\n",
    "    pot = lam*A2*(pow(A1,2)+pow(A2,2)-pow(eta,2))\n",
    "    return pot\n",
    "    \n",
    "def function_1(A1,A2,vel1,omega,eta,deltax,deltat,index,Damping):\n",
    "    F = np.subtract(Laplacian(A1,deltax,deltat),div_potential_1(A1,A2,omega,eta)) - Damping[int(index)]*vel1\n",
    "    return F\n",
    "\n",
    "def function_2(A1,A2,vel2,omega,eta,deltax,deltat,index,Damping):\n",
    "    F = np.subtract(Laplacian(A2,deltax,deltat),div_potential_2(A1,A2,omega,eta)) - Damping[int(index)]*vel2\n",
    "    return F\n",
    "\n",
    "def update(N,A1,A2,vel1,vel2,omega,eta,deltax,deltat,index,Damping):\n",
    "    F1 = function_1(A1,A2,vel1,omega,eta,deltax,deltat,index,Damping)\n",
    "    F2 = function_2(A1,A2,vel2,omega,eta,deltax,deltat,index,Damping)\n",
    "    \n",
    "    B1 = A1\n",
    "    \n",
    "    A1 = A1 + deltat*(vel1 + 0.5*deltat*function_1(A1,A2,vel1,omega,eta,deltax,deltat,index,Damping)) \n",
    "    A2 = A2 + deltat*(vel2 + 0.5*deltat*function_2(B1,A2,vel2,omega,eta,deltax,deltat,index,Damping)) \n",
    "    \n",
    "    vel1 = vel1 + deltat/2*(F1 + function_1(A1,A2,vel1,omega,eta,deltax,deltat,index,Damping)) \n",
    "    vel2 = vel2 + deltat/2*(F2 + function_2(A1,A2,vel2,omega,eta,deltax,deltat,index,Damping))\n",
    "    return A1,A2,vel1,vel2\n",
    "    \n",
    "#change the values accordlingly    \n",
    "def wolff(N,t,A1,A2,vel,omega,eta,deltax,deltat,K_damp):\n",
    "\n",
    "    Damping = damping(t,K_damp)\n",
    "\n",
    "    vel1 = vel\n",
    "    vel2 = vel\n",
    "\n",
    "    y = []\n",
    "    \n",
    "\n",
    "    for i in np.arange(int(t/deltat)):\n",
    "        \n",
    "        w = []\n",
    "        \n",
    "        #plt.imsave('ComplexIM/'+str(round((i*deltat),1))+'.png',np.sqrt(pow(A1,2)+pow(A2,2)),vmin = 0, vmax = 1.5*eta,cmap = 'Greys')\n",
    "        #plt.imsave('ComplexIM/'+str(round((i*deltat),1))+'a.png',np.arctan2(A2,A1),vmin = -1*math.pi, vmax = math.pi,cmap = 'twilight')\n",
    "        A1,A2,vel1,vel2 = update(N,A1,A2,vel1,vel2,omega,eta,deltax,deltat,i,Damping)\n",
    "        z = np.arctan2(A2,A1)\n",
    "        x = z.tolist()\n",
    "        w.extend(x)\n",
    "        y.append(np.median(w))\n",
    "    return A1,A2,y\n"
   ]
  },
  {
   "cell_type": "code",
   "execution_count": null,
   "metadata": {},
   "outputs": [],
   "source": []
  },
  {
   "cell_type": "code",
   "execution_count": 20,
   "metadata": {},
   "outputs": [
    {
     "name": "stdout",
     "output_type": "stream",
     "text": [
      "[-0.7245929265924695, -0.5848757086546115, -0.9555085952895588, 0.318273779402323, -0.7316926946173103, -0.7485026959507116, -0.20558522678064342, -0.5642630044534294, -0.6776390074198568, 0.4834360752536787, -0.7526024153484109, -0.9319530389588531, 0.4486442366608198, 0.14898959014008337, -0.5087203020141537, -0.1628930597355568, -0.32523344028698703, -0.8000826680391053, -0.32877028231734834, 0.16483469843174073, 0.4373888571196525, 0.33222807841382035, 0.8684467281817655, -0.312949513231607, -0.3241635553206637, 0.021362648463158378, -0.585032553223536, -0.14745589967169198, -0.6899427840022285, 0.07069419600599496, 0.014325776218836638, 0.08048381488755972, 0.4761774674293796, -0.6849366265232568, 0.2452726758472243, 0.1421081506643497, 0.12888608841190757, -0.23200464735399667, -0.004098593936617051, -0.23208948923776823, 0.5183734504754132, 0.37683167293051045, -0.6796001212349613, -0.09177086321181321, -0.3055061612163258, -0.6379536666015917, -0.24428676045039235, -0.09028427149388732, -0.4145536548334963, -0.30105710834859406]\n"
     ]
    },
    {
     "ename": "AttributeError",
     "evalue": "'list' object has no attribute 'mean'",
     "output_type": "error",
     "traceback": [
      "\u001b[1;31m---------------------------------------------------------------------------\u001b[0m",
      "\u001b[1;31mAttributeError\u001b[0m                            Traceback (most recent call last)",
      "\u001b[1;32m<ipython-input-20-19ae17e5ccb0>\u001b[0m in \u001b[0;36m<module>\u001b[1;34m\u001b[0m\n\u001b[0;32m     24\u001b[0m \u001b[1;33m\u001b[0m\u001b[0m\n\u001b[0;32m     25\u001b[0m \u001b[0mprint\u001b[0m\u001b[1;33m(\u001b[0m\u001b[0mavg\u001b[0m\u001b[1;33m)\u001b[0m\u001b[1;33m\u001b[0m\u001b[1;33m\u001b[0m\u001b[0m\n\u001b[1;32m---> 26\u001b[1;33m \u001b[0mprint\u001b[0m\u001b[1;33m(\u001b[0m\u001b[0mavg\u001b[0m\u001b[1;33m.\u001b[0m\u001b[0mmean\u001b[0m\u001b[1;33m(\u001b[0m\u001b[1;33m)\u001b[0m\u001b[1;33m)\u001b[0m\u001b[1;33m\u001b[0m\u001b[1;33m\u001b[0m\u001b[0m\n\u001b[0m\u001b[0;32m     27\u001b[0m \u001b[0mend\u001b[0m \u001b[1;33m=\u001b[0m \u001b[0mtime\u001b[0m\u001b[1;33m.\u001b[0m\u001b[0mtime\u001b[0m\u001b[1;33m(\u001b[0m\u001b[1;33m)\u001b[0m\u001b[1;33m\u001b[0m\u001b[1;33m\u001b[0m\u001b[0m\n\u001b[0;32m     28\u001b[0m \u001b[0mprint\u001b[0m\u001b[1;33m(\u001b[0m\u001b[0mend\u001b[0m \u001b[1;33m-\u001b[0m \u001b[0mstart\u001b[0m\u001b[1;33m)\u001b[0m\u001b[1;33m\u001b[0m\u001b[1;33m\u001b[0m\u001b[0m\n",
      "\u001b[1;31mAttributeError\u001b[0m: 'list' object has no attribute 'mean'"
     ]
    }
   ],
   "source": [
    "start = time.time()\n",
    "\n",
    "K_damp = 1\n",
    "n = 7\n",
    "deltax = 1\n",
    "deltat = 0.1\n",
    "eta = 1\n",
    "N = pow(2,n)\n",
    "t = 0.5*N*deltax/deltat # light crossing time\n",
    "t2 = t/2 # half time\n",
    "t10 = t/10 # 1/10 of the ligth crossing time\n",
    "vel = np.zeros((N,N))\n",
    "mu, sigma = 0, 0.1 # mean and standard deviation\n",
    "omega = 5\n",
    "\n",
    "\n",
    "#A = np.random.randn(N, 2*N).view(np.complex128)   \n",
    "avg = []\n",
    "for m in range(20):\n",
    "    A1 = np.random.normal(mu, sigma, size=(N, N))\n",
    "    A2 = np.random.normal(mu,sigma,size=(N,N))\n",
    "    A1,A2,y = wolff(N,t10,A1,A2,vel,omega,eta,deltax,deltat,K_damp)\n",
    "    avg.append(sum(y)/len(y))\n",
    "\n",
    "print(avg)\n",
    "print(sum(avg)/len(avg))\n",
    "end = time.time()\n",
    "print(end - start)"
   ]
  },
  {
   "cell_type": "code",
   "execution_count": 8,
   "metadata": {},
   "outputs": [
    {
     "data": {
      "text/plain": [
       "array([[0., 0., 0., 0., 0., 0., 0., 0., 0., 0.],\n",
       "       [0., 0., 0., 0., 0., 0., 0., 0., 0., 0.],\n",
       "       [0., 0., 0., 0., 0., 0., 0., 0., 0., 0.],\n",
       "       [0., 0., 0., 0., 0., 0., 0., 0., 0., 0.],\n",
       "       [0., 0., 0., 0., 0., 0., 0., 0., 0., 0.],\n",
       "       [0., 0., 0., 0., 0., 0., 0., 0., 0., 0.],\n",
       "       [0., 0., 0., 0., 0., 0., 0., 0., 0., 0.],\n",
       "       [0., 0., 0., 0., 0., 0., 0., 0., 0., 0.],\n",
       "       [0., 0., 0., 0., 0., 0., 0., 0., 0., 0.],\n",
       "       [0., 0., 0., 0., 0., 0., 0., 0., 0., 0.]])"
      ]
     },
     "execution_count": 8,
     "metadata": {},
     "output_type": "execute_result"
    }
   ],
   "source": [
    "Laplacian(np.zeros((10,10)),1,0.1)"
   ]
  },
  {
   "cell_type": "code",
   "execution_count": 21,
   "metadata": {},
   "outputs": [
    {
     "name": "stdout",
     "output_type": "stream",
     "text": [
      "-0.19407686702826435\n"
     ]
    }
   ],
   "source": [
    "print(sum(avg)/len(avg))"
   ]
  },
  {
   "cell_type": "code",
   "execution_count": null,
   "metadata": {},
   "outputs": [],
   "source": []
  }
 ],
 "metadata": {
  "kernelspec": {
   "display_name": "Python 3",
   "language": "python",
   "name": "python3"
  },
  "language_info": {
   "codemirror_mode": {
    "name": "ipython",
    "version": 3
   },
   "file_extension": ".py",
   "mimetype": "text/x-python",
   "name": "python",
   "nbconvert_exporter": "python",
   "pygments_lexer": "ipython3",
   "version": "3.8.3"
  }
 },
 "nbformat": 4,
 "nbformat_minor": 4
}
