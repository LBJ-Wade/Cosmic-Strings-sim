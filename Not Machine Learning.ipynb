{
 "cells": [
  {
   "cell_type": "code",
   "execution_count": 15,
   "id": "a45afa34",
   "metadata": {},
   "outputs": [],
   "source": [
    "%matplotlib inline\n",
    "from matplotlib import pyplot as plt\n",
    "import numpy as np\n",
    "from PIL import Image\n",
    "import math\n",
    "import time\n",
    "from numba import jit,njit,prange\n",
    "from mpl_toolkits.mplot3d import Axes3D\n",
    "\n",
    "\n",
    "from matplotlib.colors import LinearSegmentedColormap\n",
    "import functools\n",
    "import itertools as IT\n",
    "import scipy.ndimage as ndimage\n",
    "import matplotlib.colors as mcolors\n",
    "import matplotlib.cm as cm\n",
    "\n",
    "import sklearn\n",
    "import pandas\n",
    "from skimage import measure"
   ]
  },
  {
   "cell_type": "code",
   "execution_count": 2,
   "id": "017f73e9",
   "metadata": {},
   "outputs": [],
   "source": [
    "# Load libraries\n",
    "from pandas import read_csv\n",
    "from pandas.plotting import scatter_matrix\n",
    "from matplotlib import pyplot\n",
    "from sklearn.model_selection import train_test_split\n",
    "from sklearn.model_selection import cross_val_score\n",
    "from sklearn.model_selection import StratifiedKFold\n",
    "from sklearn.metrics import classification_report\n",
    "from sklearn.metrics import confusion_matrix\n",
    "from sklearn.metrics import accuracy_score\n",
    "from sklearn.linear_model import LogisticRegression\n",
    "from sklearn.tree import DecisionTreeClassifier\n",
    "from sklearn.neighbors import KNeighborsClassifier\n",
    "from sklearn.discriminant_analysis import LinearDiscriminantAnalysis\n",
    "from sklearn.naive_bayes import GaussianNB\n",
    "from sklearn.svm import SVC"
   ]
  },
  {
   "cell_type": "code",
   "execution_count": 16,
   "id": "2850d5d5",
   "metadata": {},
   "outputs": [],
   "source": [
    "# comoving but the strings stay put (ideal for radiation or matter)\n",
    "\n",
    "\n",
    "@jit(nopython = True)\n",
    "\n",
    "def Laplacian(A,deltax,deltat):\n",
    "\n",
    "\n",
    "    h = len(A)\n",
    "\n",
    "    #CFL condition delta x => sqrt(D) delta t, where D is the number of dimensions            \n",
    "\n",
    "    P = np.zeros((h,h,h))\n",
    "\n",
    "    result = np.zeros((h,h,h))\n",
    "\n",
    "    for i in range(0, h):\n",
    "\n",
    "        for j in range(0,h):\n",
    "\n",
    "            for k in range(0,h):\n",
    "\n",
    "                P[i,j,k] = (A[(i-1)%h,(j-1)%h,(k-1)%h] + 3*A[(i-1)%h,j,(k-1)%h] + A[(i-1)%h,(j+1)%h,(k-1)%h] \\\n",
    "\n",
    "                + 3*A[(i-1)%h,(j-1)%h,k] + 14*A[(i-1)%h,j,k] + 3*A[(i-1)%h,(j+1)%h,k] \\\n",
    "\n",
    "                + A[(i-1)%h,(j-1)%h,(k+1)%h] + 3*A[(i-1)%h,j,(k+1)%h] + A[(i-1)%h,(j+1)%h,(k+1)%h] \\\n",
    "\n",
    "                + 3*A[i,(j-1)%h,(k-1)%h] + 14*A[i,j,(k-1)%h] + 3*A[i,(j+1)%h,(k-1)%h] \\\n",
    "\n",
    "                + 14*A[i,(j-1)%h,k] - 128*A[i,j,k] + 14*A[i,(j+1)%h,k] \\\n",
    "\n",
    "                + 3*A[i,(j-1)%h,(k+1)%h] + 14*A[i,j,(k+1)%h] + 3*A[i,(j+1)%h,(k+1)%h] \\\n",
    "\n",
    "                + A[(i+1)%h,(j-1)%h,(k-1)%h] + 3*A[(i+1)%h,j,(k-1)%h] + A[(i+1)%h,(j+1)%h,(k-1)%h] \\\n",
    "\n",
    "                + 3*A[(i+1)%h,(j-1)%h,k] + 14*A[(i+1)%h,j,k] + 3*A[(i+1)%h,(j+1)%h,k] \\\n",
    "\n",
    "                + A[(i+1)%h,(j-1)%h,(k+1)%h] + 3*A[(i+1)%h,j,(k+1)%h] + A[(i+1)%h,(j+1)%h,(k+1)%h])/(30*pow(deltax,2))\n",
    "\n",
    "    return P \n",
    "\n",
    "def update(N,A1,A2,vel1,vel2,omega,eta,deltax,deltat,a,time):\n",
    "\n",
    "    H_0 = 2.18e-18\n",
    "\n",
    "    #a = np.sqrt(2*H_0)*np.sqrt(time)\n",
    "\n",
    "    a = 4.75240000000367e-36 * time**2\n",
    "\n",
    "    beta = 0\n",
    "\n",
    "    alpha = 3\n",
    "\n",
    "    #era = 1 #radiation\n",
    "\n",
    "    era = 2 #matter\n",
    "\n",
    "\n",
    "    lam = 2*pow(math.pi,2)/pow(omega,2)\n",
    "\n",
    "  \n",
    "\n",
    "    F1 = Laplacian(A1,deltax,deltat) - a**beta * lam*A1*(pow(A1,2)+pow(A2,2)-pow(eta,2))-alpha*era*vel1*1/time\n",
    "\n",
    "    F2 = Laplacian(A2,deltax,deltat) - a**beta * lam*A2*(pow(A1,2)+pow(A2,2)-pow(eta,2))-alpha*era*vel2*1/time\n",
    "\n",
    "    \n",
    "\n",
    "    time = time + deltat\n",
    "\n",
    "    \n",
    "\n",
    "    a1 = 4.75240000000367e-36 * time**2\n",
    "\n",
    "    \n",
    "\n",
    "    A1 = A1 + deltat*(vel1 + 0.5*deltat*F1) \n",
    "\n",
    "    A2 = A2 + deltat*(vel2 + 0.5*deltat*F2) \n",
    "\n",
    "\n",
    "\n",
    "    vel1 = vel1 + deltat/2*(F1 + Laplacian(A1,deltax,deltat) - a1**beta *lam*A1*(pow(A1,2)+pow(A2,2)-pow(eta,2)) -alpha*era*vel1*1/time) \n",
    "\n",
    "    vel2 = vel2 + deltat/2*(F2 + Laplacian(A2,deltax,deltat) - a1**beta *lam*A2*(pow(A1,2)+pow(A2,2)-pow(eta,2)) -alpha*era*vel2*1/time)\n",
    "\n",
    "    \n",
    "\n",
    "    \n",
    "\n",
    "    return A1,A2,vel1,vel2,a,time\n",
    "\n",
    "    \n",
    "\n",
    "\n",
    "def run(N,t0,t,A1,A2,vel,omega,eta,deltax,deltat):\n",
    "\n",
    "\n",
    "    time = t0\n",
    "\n",
    "    a = 0\n",
    "\n",
    "    t0 = round(t0)\n",
    "\n",
    "\n",
    "    vel1 = vel\n",
    "\n",
    "    vel2 = vel\n",
    "\n",
    "\n",
    "\n",
    "    for i in np.arange(int(t/deltat)):\n",
    "            \n",
    "\n",
    "        A1,A2,vel1,vel2,a,time = update(N,A1,A2,vel1,vel2,omega,eta,deltax,deltat,a,time)\n",
    "\n",
    "\n",
    "    return A1,A2,vel1,vel2,time\n",
    "\n",
    "\n",
    "\n",
    "\n"
   ]
  },
  {
   "cell_type": "code",
   "execution_count": null,
   "id": "5fa311bd",
   "metadata": {},
   "outputs": [],
   "source": []
  },
  {
   "cell_type": "code",
   "execution_count": 18,
   "id": "69eb84d9",
   "metadata": {
    "scrolled": true
   },
   "outputs": [
    {
     "name": "stdout",
     "output_type": "stream",
     "text": [
      "1280.0\n",
      "2230.9353108406067\n"
     ]
    }
   ],
   "source": [
    "import time\n",
    "\n",
    "start = time.time()\n",
    "\n",
    "\n",
    "n = 8\n",
    "deltax = 1\n",
    "deltat = 0.1\n",
    "eta = 1\n",
    "N = pow(2,n)\n",
    "t = 0.5*N*deltax/deltat # light crossing time\n",
    "t0 = 0.1\n",
    "t2 = t/2 # half time\n",
    "t5 = t/5\n",
    "t10 = t/10 # 1/10 of the ligth crossing time\n",
    "t20 = t/20\n",
    "\n",
    "vel = np.zeros((N,N,N))\n",
    "mu, sigma = 0, 0.1 # mean and standard deviation\n",
    "omega = 5\n",
    "\n",
    "print(t)\n",
    "\n",
    "\n",
    "\n",
    "A1 = np.random.normal(mu, sigma, size=(N,N,N))\n",
    "A2 = np.random.normal(mu,sigma,size=(N,N,N))\n",
    "\n",
    "\n",
    "\n",
    "\n",
    "C1,C2,el1,el2,tim = run(N,t0,t20,A1,A2,vel,omega,eta,deltax,deltat)\n",
    "\n",
    "\n",
    "end = time.time()\n",
    "print(end - start)\n",
    "\n",
    "\n"
   ]
  },
  {
   "cell_type": "code",
   "execution_count": null,
   "id": "29b431c3",
   "metadata": {},
   "outputs": [],
   "source": []
  },
  {
   "cell_type": "code",
   "execution_count": null,
   "id": "cdb3c20a",
   "metadata": {},
   "outputs": [],
   "source": []
  },
  {
   "cell_type": "code",
   "execution_count": 21,
   "id": "52b7cb32",
   "metadata": {},
   "outputs": [],
   "source": [
    "def impose_periodic(check):\n",
    "    for x in range(check.shape[0]):\n",
    "        for y in range(check.shape[1]):\n",
    "            for z in range(check.shape[2]):\n",
    "                if check[0,y,z] > 0 and check[-1,y,z] > 0:\n",
    "                    check[check == check[-1,y,z]] = check[0,y,z]\n",
    "                if check[x,0,z] > 0 and check[x,-1,z] > 0:\n",
    "                    check[check == check[x,-1,z]] = check[x,0,z]\n",
    "                if check[x,y,0] > 0 and check[x,y,-1] > 0:\n",
    "                    check[check == check[x,y,-1]] = check[x,y,0]\n",
    "    return check\n",
    "\n",
    "\n",
    "def wolff(N,t0,t,A1,A2,vel1,vel2,omega,eta,deltax,deltat):\n",
    "\n",
    "    time = t0\n",
    "    a = 0\n",
    "\n",
    "    \n",
    "\n",
    "    fig = plt.figure(figsize=(8,8))\n",
    "    fig.set_facecolor('white')\n",
    "    ax = fig.add_subplot(1, 1, 1, projection='3d')\n",
    "    ax.set_facecolor('springgreen')\n",
    "    #ax.set_axis_off()\n",
    "\n",
    "    ax.set_xticks([])\n",
    "    ax.set_yticks([])\n",
    "    ax.set_zticks([])\n",
    "    \n",
    "    ax.set_xlim3d(0,N)\n",
    "    ax.set_ylim3d(0,N)\n",
    "    ax.set_zlim3d(0,N)\n",
    "\n",
    "    \n",
    "\n",
    "\n",
    "    for i in np.arange(int(t/deltat)):\n",
    "        time = round(time,2)     \n",
    "        \n",
    "        if time % 1 == 0:\n",
    "\n",
    "            mod = np.sqrt(pow(A1,2)+pow(A2,2))**1 \n",
    "            \n",
    "            \n",
    "            \n",
    "            check = (mod > 0.15) & (mod < 0.5)\n",
    "            \n",
    "            points = np.where(check)\n",
    "            \n",
    "            #check = impose_periodic(check)\n",
    "            \n",
    "            \n",
    "            \n",
    "            _,num = skimage.measure.label(check,background = 0,return_num = True,connectivity = 3)\n",
    "\n",
    "            scat = ax.scatter(points[0],points[1],points[2],color= 'black')\n",
    "\n",
    "            plt.title(num)\n",
    "\n",
    "            plt.savefig('5/'+str(int(time-t0)).zfill(3)+'.png')\n",
    "\n",
    "            scat.remove()\n",
    "\n",
    "\n",
    "            \n",
    "        A1,A2,vel1,vel2,a,time = update(N,A1,A2,vel1,vel2,omega,eta,deltax,deltat,a,time)\n",
    "\n",
    "\n",
    "    return A1,A2\n",
    "\n",
    "\n"
   ]
  },
  {
   "cell_type": "code",
   "execution_count": null,
   "id": "6c122371",
   "metadata": {},
   "outputs": [],
   "source": []
  },
  {
   "cell_type": "code",
   "execution_count": null,
   "id": "3eca1898",
   "metadata": {},
   "outputs": [],
   "source": [
    "import time\n",
    "\n",
    "start = time.time()\n",
    "\n",
    "\n",
    "A1,A2 = wolff(N,tim,t2,C1,C2,el1,el2,omega,eta,deltax,deltat)\n",
    "\n",
    "\n",
    "\n",
    "\n",
    "end = time.time()\n",
    "print(end - start)"
   ]
  },
  {
   "cell_type": "code",
   "execution_count": null,
   "id": "b42dca43",
   "metadata": {},
   "outputs": [],
   "source": []
  },
  {
   "cell_type": "code",
   "execution_count": null,
   "id": "173d6ebe",
   "metadata": {},
   "outputs": [],
   "source": []
  },
  {
   "cell_type": "code",
   "execution_count": 37,
   "id": "19d612a8",
   "metadata": {},
   "outputs": [
    {
     "name": "stdout",
     "output_type": "stream",
     "text": [
      "[[ True  True  True ...  True  True  True]\n",
      " [ True  True  True ...  True  True  True]\n",
      " [ True  True  True ...  True  True  True]\n",
      " ...\n",
      " [ True  True  True ...  True  True  True]\n",
      " [ True  True  True ...  True  True  True]\n",
      " [False False  True ...  True  True  True]]\n",
      "27\n"
     ]
    },
    {
     "name": "stderr",
     "output_type": "stream",
     "text": [
      "<ipython-input-37-4a5fdb4eba83>:11: DeprecationWarning: `np.int` is a deprecated alias for the builtin `int`. To silence this warning, use `int` by itself. Doing this will not modify any behavior and is safe. When replacing `np.int`, you may wish to use e.g. `np.int64` or `np.int32` to specify the precision. If you wish to review your current use, check the release note link for additional information.\n",
      "Deprecated in NumPy 1.20; for more details and guidance: https://numpy.org/devdocs/release/1.20.0-notes.html#deprecations\n",
      "  im[(points[0]).astype(np.int), (points[1]).astype(np.int)] = 1\n"
     ]
    },
    {
     "data": {
      "image/png": "[encoded data removed]",
      "text/plain": [
       "<Figure size 648x252 with 3 Axes>"
      ]
     },
     "metadata": {
      "needs_background": "light"
     },
     "output_type": "display_data"
    }
   ],
   "source": [
    "from skimage import measure\n",
    "from skimage import filters\n",
    "import matplotlib.pyplot as plt\n",
    "import numpy as np\n",
    "\n",
    "n = 12\n",
    "l = 256\n",
    "np.random.seed(1)\n",
    "im = np.zeros((l, l))\n",
    "points = l * np.random.random((2, n ** 2))\n",
    "im[(points[0]).astype(np.int), (points[1]).astype(np.int)] = 1\n",
    "im = filters.gaussian(im, sigma= l / (4. * n))\n",
    "blobs = im > 0.7 * im.mean()\n",
    "\n",
    "all_labels = measure.label(blobs)\n",
    "\n",
    "\n",
    "print(blobs)\n",
    "blobs_labels = measure.label(blobs, background=0,return_num = True)\n",
    "print(blobs_labels[1])\n",
    "\n",
    "plt.figure(figsize=(9, 3.5))\n",
    "plt.subplot(131)\n",
    "plt.imshow(blobs, cmap='gray')\n",
    "plt.axis('off')\n",
    "plt.subplot(132)\n",
    "plt.imshow(all_labels, cmap='nipy_spectral')\n",
    "plt.axis('off')\n",
    "plt.subplot(133)\n",
    "plt.imshow(blobs_labels[0], cmap='nipy_spectral')\n",
    "plt.axis('off')\n",
    "\n",
    "plt.tight_layout()\n",
    "plt.show()\n",
    "\n"
   ]
  },
  {
   "cell_type": "code",
   "execution_count": null,
   "id": "ee3d6eb4",
   "metadata": {},
   "outputs": [],
   "source": []
  },
  {
   "cell_type": "code",
   "execution_count": null,
   "id": "12578ed4",
   "metadata": {},
   "outputs": [],
   "source": []
  },
  {
   "cell_type": "code",
   "execution_count": 5,
   "id": "11701b66",
   "metadata": {},
   "outputs": [],
   "source": [
    "# Load dataset\n",
    "url = \"https://raw.githubusercontent.com/jbrownlee/Datasets/master/iris.csv\"\n",
    "names = ['sepal-length', 'sepal-width', 'petal-length', 'petal-width', 'class']\n",
    "dataset = read_csv(url, names=names)"
   ]
  },
  {
   "cell_type": "code",
   "execution_count": 6,
   "id": "aa24bb43",
   "metadata": {},
   "outputs": [
    {
     "name": "stdout",
     "output_type": "stream",
     "text": [
      "(150, 5)\n"
     ]
    }
   ],
   "source": [
    "# shape\n",
    "print(dataset.shape)"
   ]
  },
  {
   "cell_type": "code",
   "execution_count": 7,
   "id": "1023381b",
   "metadata": {},
   "outputs": [
    {
     "name": "stdout",
     "output_type": "stream",
     "text": [
      "    sepal-length  sepal-width  petal-length  petal-width        class\n",
      "0            5.1          3.5           1.4          0.2  Iris-setosa\n",
      "1            4.9          3.0           1.4          0.2  Iris-setosa\n",
      "2            4.7          3.2           1.3          0.2  Iris-setosa\n",
      "3            4.6          3.1           1.5          0.2  Iris-setosa\n",
      "4            5.0          3.6           1.4          0.2  Iris-setosa\n",
      "5            5.4          3.9           1.7          0.4  Iris-setosa\n",
      "6            4.6          3.4           1.4          0.3  Iris-setosa\n",
      "7            5.0          3.4           1.5          0.2  Iris-setosa\n",
      "8            4.4          2.9           1.4          0.2  Iris-setosa\n",
      "9            4.9          3.1           1.5          0.1  Iris-setosa\n",
      "10           5.4          3.7           1.5          0.2  Iris-setosa\n",
      "11           4.8          3.4           1.6          0.2  Iris-setosa\n",
      "12           4.8          3.0           1.4          0.1  Iris-setosa\n",
      "13           4.3          3.0           1.1          0.1  Iris-setosa\n",
      "14           5.8          4.0           1.2          0.2  Iris-setosa\n",
      "15           5.7          4.4           1.5          0.4  Iris-setosa\n",
      "16           5.4          3.9           1.3          0.4  Iris-setosa\n",
      "17           5.1          3.5           1.4          0.3  Iris-setosa\n",
      "18           5.7          3.8           1.7          0.3  Iris-setosa\n",
      "19           5.1          3.8           1.5          0.3  Iris-setosa\n"
     ]
    }
   ],
   "source": [
    "# head\n",
    "print(dataset.head(20))"
   ]
  },
  {
   "cell_type": "code",
   "execution_count": 8,
   "id": "49b1aeb5",
   "metadata": {},
   "outputs": [
    {
     "name": "stdout",
     "output_type": "stream",
     "text": [
      "       sepal-length  sepal-width  petal-length  petal-width\n",
      "count    150.000000   150.000000    150.000000   150.000000\n",
      "mean       5.843333     3.054000      3.758667     1.198667\n",
      "std        0.828066     0.433594      1.764420     0.763161\n",
      "min        4.300000     2.000000      1.000000     0.100000\n",
      "25%        5.100000     2.800000      1.600000     0.300000\n",
      "50%        5.800000     3.000000      4.350000     1.300000\n",
      "75%        6.400000     3.300000      5.100000     1.800000\n",
      "max        7.900000     4.400000      6.900000     2.500000\n"
     ]
    }
   ],
   "source": [
    "# descriptions\n",
    "print(dataset.describe())"
   ]
  },
  {
   "cell_type": "code",
   "execution_count": 9,
   "id": "c9c426ae",
   "metadata": {},
   "outputs": [
    {
     "name": "stdout",
     "output_type": "stream",
     "text": [
      "class\n",
      "Iris-setosa        50\n",
      "Iris-versicolor    50\n",
      "Iris-virginica     50\n",
      "dtype: int64\n"
     ]
    }
   ],
   "source": [
    "# class distribution\n",
    "print(dataset.groupby('class').size())"
   ]
  },
  {
   "cell_type": "code",
   "execution_count": null,
   "id": "72fb1dd2",
   "metadata": {},
   "outputs": [],
   "source": [
    "# box and whisker plots\n",
    "dataset.plot(kind='box', subplots=True, layout=(2,2), sharex=False, sharey=False)\n",
    "pyplot.show()"
   ]
  },
  {
   "cell_type": "code",
   "execution_count": null,
   "id": "e0485fb4",
   "metadata": {},
   "outputs": [],
   "source": [
    "# histograms\n",
    "dataset.hist()\n",
    "pyplot.show()"
   ]
  },
  {
   "cell_type": "code",
   "execution_count": null,
   "id": "6ca24edc",
   "metadata": {},
   "outputs": [],
   "source": [
    "# scatter plot matrix\n",
    "scatter_matrix(dataset)\n",
    "pyplot.show()"
   ]
  },
  {
   "cell_type": "code",
   "execution_count": null,
   "id": "d1a1c745",
   "metadata": {},
   "outputs": [],
   "source": [
    "# Split-out validation dataset\n",
    "array = dataset.values\n",
    "X = array[:,0:4]\n",
    "y = array[:,4]\n",
    "X_train, X_validation, Y_train, Y_validation = train_test_split(X, y, test_size=0.20, random_state=1)"
   ]
  },
  {
   "cell_type": "code",
   "execution_count": null,
   "id": "0f5568f6",
   "metadata": {},
   "outputs": [],
   "source": [
    "# Spot Check Algorithms\n",
    "models = []\n",
    "models.append(('LR', LogisticRegression(solver='liblinear', multi_class='ovr')))\n",
    "models.append(('LDA', LinearDiscriminantAnalysis()))\n",
    "models.append(('KNN', KNeighborsClassifier()))\n",
    "models.append(('CART', DecisionTreeClassifier()))\n",
    "models.append(('NB', GaussianNB()))\n",
    "models.append(('SVM', SVC(gamma='auto')))\n",
    "# evaluate each model in turn\n",
    "results = []\n",
    "names = []\n",
    "for name, model in models:\n",
    "\tkfold = StratifiedKFold(n_splits=10, random_state=1, shuffle=True)\n",
    "\tcv_results = cross_val_score(model, X_train, Y_train, cv=kfold, scoring='accuracy')\n",
    "\tresults.append(cv_results)\n",
    "\tnames.append(name)\n",
    "\tprint('%s: %f (%f)' % (name, cv_results.mean(), cv_results.std()))"
   ]
  },
  {
   "cell_type": "code",
   "execution_count": null,
   "id": "2882fc08",
   "metadata": {},
   "outputs": [],
   "source": [
    "# Compare Algorithms\n",
    "pyplot.boxplot(results, labels=names)\n",
    "pyplot.title('Algorithm Comparison')\n",
    "pyplot.show()"
   ]
  },
  {
   "cell_type": "code",
   "execution_count": null,
   "id": "fa11c857",
   "metadata": {},
   "outputs": [],
   "source": [
    "# Make predictions on validation dataset\n",
    "model = SVC(gamma='auto')\n",
    "model.fit(X_train, Y_train)\n",
    "predictions = model.predict(X_validation)"
   ]
  },
  {
   "cell_type": "code",
   "execution_count": null,
   "id": "37f4fcc8",
   "metadata": {},
   "outputs": [],
   "source": [
    "# Evaluate predictions\n",
    "print(accuracy_score(Y_validation, predictions))\n",
    "print(confusion_matrix(Y_validation, predictions))\n",
    "print(classification_report(Y_validation, predictions))"
   ]
  },
  {
   "cell_type": "code",
   "execution_count": null,
   "id": "49901ce7",
   "metadata": {},
   "outputs": [],
   "source": []
  }
 ],
 "metadata": {
  "kernelspec": {
   "display_name": "Python 3",
   "language": "python",
   "name": "python3"
  },
  "language_info": {
   "codemirror_mode": {
    "name": "ipython",
    "version": 3
   },
   "file_extension": ".py",
   "mimetype": "text/x-python",
   "name": "python",
   "nbconvert_exporter": "python",
   "pygments_lexer": "ipython3",
   "version": "3.8.5"
  }
 },
 "nbformat": 4,
 "nbformat_minor": 5
}
