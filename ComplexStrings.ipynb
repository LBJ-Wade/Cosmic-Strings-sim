{
 "cells": [
  {
   "cell_type": "code",
   "execution_count": 2,
   "metadata": {},
   "outputs": [
    {
     "name": "stdout",
     "output_type": "stream",
     "text": [
      "Using matplotlib backend: Qt5Agg\n"
     ]
    }
   ],
   "source": [
    "%matplotlib \n",
    "from matplotlib import pyplot as plt\n",
    "import numpy as np\n",
    "import matplotlib \n",
    "from PIL import Image\n",
    "import PIL\n",
    "import math\n",
    "from random import random\n",
    "from random import seed\n",
    "from random import randint\n",
    "import time\n",
    "from numba import jit\n",
    "import skimage"
   ]
  },
  {
   "cell_type": "code",
   "execution_count": 5,
   "metadata": {},
   "outputs": [],
   "source": [
    "@jit(nopython = True)\n",
    "    \n",
    "def Laplacian(A,deltax,deltat):\n",
    "\n",
    "    h = len(A)\n",
    "    #CFL condition delta x => sqrt(D) delta t, where D is the number of dimensions            \n",
    "    P = np.zeros((h,h))\n",
    "    result = np.zeros((h,h))\n",
    "    \n",
    "    for i in range(0, h):\n",
    "        for j in range(0,h):\n",
    "            P[i,j] = (-A[(i+2)%h,j] + 16*A[(i+1)%h,j] + 16*A[(i-1)%h,j] -A[(i-2)%h,j] \\\n",
    "                 -A[i,(j+2)%h] + 16*A[i,(j+1)%h]  + 16*A[i,(j-1)%h] -A[i,(j-2)%h] - 60*A[i,j])/(12*pow(deltax,2))\n",
    "\n",
    "  \n",
    "    return P \n",
    "\n",
    "def damping(t,K_damp):\n",
    "    Damping = np.zeros(shape=int(t/deltat))\n",
    "    Damping[0:200] = 1*K_damp\n",
    "    return Damping\n",
    "\n",
    "def div_potential_1(A1,A2,omega,eta):\n",
    "    lam = 2*pow(math.pi,2)/pow(omega,2)\n",
    "    pot = lam*A1*(pow(A1,2)+pow(A2,2)-pow(eta,2))\n",
    "    return pot\n",
    "\n",
    "def div_potential_2(A1,A2,omega,eta):\n",
    "    lam = 2*pow(math.pi,2)/pow(omega,2)\n",
    "    pot = lam*A2*(pow(A1,2)+pow(A2,2)-pow(eta,2))\n",
    "    return pot\n",
    "    \n",
    "def function_1(A1,A2,vel1,omega,eta,deltax,deltat,index,Damping):\n",
    "    F = np.subtract(Laplacian(A1,deltax,deltat),div_potential_1(A1,A2,omega,eta)) - Damping[int(index)]*vel1\n",
    "    return F\n",
    "\n",
    "def function_2(A1,A2,vel2,omega,eta,deltax,deltat,index,Damping):\n",
    "    F = np.subtract(Laplacian(A2,deltax,deltat),div_potential_2(A1,A2,omega,eta)) - Damping[int(index)]*vel2\n",
    "    return F\n",
    "\n",
    "def update(N,A1,A2,vel1,vel2,omega,eta,deltax,deltat,index,Damping):\n",
    "    F1 = function_1(A1,A2,vel1,omega,eta,deltax,deltat,index,Damping)\n",
    "    F2 = function_2(A1,A2,vel2,omega,eta,deltax,deltat,index,Damping)\n",
    "    \n",
    "    B1 = A1\n",
    "    \n",
    "    A1 = A1 + deltat*(vel1 + 0.5*deltat*function_1(A1,A2,vel1,omega,eta,deltax,deltat,index,Damping)) \n",
    "    A2 = A2 + deltat*(vel2 + 0.5*deltat*function_2(B1,A2,vel2,omega,eta,deltax,deltat,index,Damping)) \n",
    "    \n",
    "    vel1 = vel1 + deltat/2*(F1 + function_1(A1,A2,vel1,omega,eta,deltax,deltat,index,Damping)) \n",
    "    vel2 = vel2 + deltat/2*(F2 + function_2(A1,A2,vel2,omega,eta,deltax,deltat,index,Damping))\n",
    "    return A1,A2,vel1,vel2\n",
    "    \n",
    "#change the values accordlingly    \n",
    "def wolff(N,t,A1,A2,vel,omega,eta,deltax,deltat,K_damp):\n",
    "\n",
    "    Damping = damping(t,K_damp)\n",
    "\n",
    "    vel1 = vel\n",
    "    vel2 = vel\n",
    "    \n",
    "    fig, ax = plt.subplots(1, 2,figsize=(16,16))\n",
    "\n",
    "    #ax[0].axis('off')\n",
    "    #ax[1].axis('off')\n",
    "    ax[0].get_xaxis().set_visible(False)\n",
    "    ax[0].get_yaxis().set_visible(False)\n",
    "    ax[1].get_xaxis().set_visible(False)\n",
    "    ax[1].get_yaxis().set_visible(False)\n",
    "    \n",
    "    plt.ion()\n",
    "    plt.show()\n",
    "    cbax = fig.add_axes([0.04,0.2,0.03,0.6])\n",
    "    cbay = fig.add_axes([0.93,0.2,0.03,0.6])\n",
    "    x = np.arange(A1.shape[0])\n",
    "    y = np.arange(A1.shape[1])\n",
    "    X,Y = np.meshgrid(x,y)\n",
    "    \n",
    "    for i in np.arange(int(t/deltat)):\n",
    "        \n",
    "        mod = np.sqrt(pow(A1,2)+pow(A2,2))\n",
    "        \n",
    "        if i == 0:\n",
    "            first = ax[0].imshow(mod, vmin= 0, vmax=1.5*round(eta),cmap = 'Greys', interpolation = 'none')\n",
    "            ax[0].contour(X,Y,mod,levels = [0.5])\n",
    "            fig.colorbar(first,orientation = 'vertical',cax = cbax)\n",
    "            second = ax[1].imshow(np.arctan2(A2,A1), vmin= -1*math.pi, vmax=math.pi,cmap = 'twilight', interpolation = 'none')\n",
    "            fig.colorbar(second,orientation = 'vertical',cax = cbay)\n",
    "            \n",
    "        A1,A2,vel1,vel2 = update(N,A1,A2,vel1,vel2,omega,eta,deltax,deltat,i,Damping)\n",
    "        #print([A1[0,0],A2[0,0]])\n",
    "        \n",
    "        \n",
    "\n",
    "        \n",
    "        if i in range(0) or i % 5 == 0 and i != 0:\n",
    "            ax[0].imshow(mod, vmin= 0, vmax=1.5*round(eta),cmap = 'Greys',interpolation = 'none')\n",
    "            ax[0].contour(X,Y,mod, levels = [0.5])\n",
    "            ax[1].imshow(np.arctan2(A2,A1), vmin= -1*math.pi, vmax=math.pi,cmap = 'twilight', interpolation = 'none')\n",
    "\n",
    "            plt.pause(1)\n",
    "            ax[0].clear()\n",
    "            plt.suptitle('time= '+str(round((i*deltat),1))+'')\n",
    "\n",
    "    return A1,A2\n"
   ]
  },
  {
   "cell_type": "code",
   "execution_count": null,
   "metadata": {},
   "outputs": [],
   "source": []
  },
  {
   "cell_type": "code",
   "execution_count": null,
   "metadata": {
    "scrolled": true
   },
   "outputs": [
    {
     "name": "stderr",
     "output_type": "stream",
     "text": [
      "<ipython-input-5-bfb3d74de5ea>:85: UserWarning: No contour levels were found within the data range.\n",
      "  ax[0].contour(X,Y,mod,levels = [0.5])\n",
      "<ipython-input-5-bfb3d74de5ea>:98: UserWarning: No contour levels were found within the data range.\n",
      "  ax[0].contour(X,Y,mod, levels = [0.5])\n"
     ]
    },
    {
     "ename": "KeyboardInterrupt",
     "evalue": "",
     "output_type": "error",
     "traceback": [
      "\u001b[1;31m---------------------------------------------------------------------------\u001b[0m",
      "\u001b[1;31mKeyboardInterrupt\u001b[0m                         Traceback (most recent call last)",
      "\u001b[1;32m~\\Anaconda3\\lib\\site-packages\\matplotlib\\backends\\backend_qt5.py\u001b[0m in \u001b[0;36m_draw_idle\u001b[1;34m(self)\u001b[0m\n\u001b[0;32m    494\u001b[0m                 \u001b[1;32mreturn\u001b[0m\u001b[1;33m\u001b[0m\u001b[1;33m\u001b[0m\u001b[0m\n\u001b[0;32m    495\u001b[0m             \u001b[1;32mtry\u001b[0m\u001b[1;33m:\u001b[0m\u001b[1;33m\u001b[0m\u001b[1;33m\u001b[0m\u001b[0m\n\u001b[1;32m--> 496\u001b[1;33m                 \u001b[0mself\u001b[0m\u001b[1;33m.\u001b[0m\u001b[0mdraw\u001b[0m\u001b[1;33m(\u001b[0m\u001b[1;33m)\u001b[0m\u001b[1;33m\u001b[0m\u001b[1;33m\u001b[0m\u001b[0m\n\u001b[0m\u001b[0;32m    497\u001b[0m             \u001b[1;32mexcept\u001b[0m \u001b[0mException\u001b[0m\u001b[1;33m:\u001b[0m\u001b[1;33m\u001b[0m\u001b[1;33m\u001b[0m\u001b[0m\n\u001b[0;32m    498\u001b[0m                 \u001b[1;31m# Uncaught exceptions are fatal for PyQt5, so catch them.\u001b[0m\u001b[1;33m\u001b[0m\u001b[1;33m\u001b[0m\u001b[1;33m\u001b[0m\u001b[0m\n",
      "\u001b[1;32m~\\Anaconda3\\lib\\site-packages\\matplotlib\\backends\\backend_agg.py\u001b[0m in \u001b[0;36mdraw\u001b[1;34m(self)\u001b[0m\n\u001b[0;32m    391\u001b[0m              (self.toolbar._wait_cursor_for_draw_cm() if self.toolbar\n\u001b[0;32m    392\u001b[0m               else nullcontext()):\n\u001b[1;32m--> 393\u001b[1;33m             \u001b[0mself\u001b[0m\u001b[1;33m.\u001b[0m\u001b[0mfigure\u001b[0m\u001b[1;33m.\u001b[0m\u001b[0mdraw\u001b[0m\u001b[1;33m(\u001b[0m\u001b[0mself\u001b[0m\u001b[1;33m.\u001b[0m\u001b[0mrenderer\u001b[0m\u001b[1;33m)\u001b[0m\u001b[1;33m\u001b[0m\u001b[1;33m\u001b[0m\u001b[0m\n\u001b[0m\u001b[0;32m    394\u001b[0m             \u001b[1;31m# A GUI class may be need to update a window using this draw, so\u001b[0m\u001b[1;33m\u001b[0m\u001b[1;33m\u001b[0m\u001b[1;33m\u001b[0m\u001b[0m\n\u001b[0;32m    395\u001b[0m             \u001b[1;31m# don't forget to call the superclass.\u001b[0m\u001b[1;33m\u001b[0m\u001b[1;33m\u001b[0m\u001b[1;33m\u001b[0m\u001b[0m\n",
      "\u001b[1;32m~\\Anaconda3\\lib\\site-packages\\matplotlib\\artist.py\u001b[0m in \u001b[0;36mdraw_wrapper\u001b[1;34m(artist, renderer, *args, **kwargs)\u001b[0m\n\u001b[0;32m     36\u001b[0m                 \u001b[0mrenderer\u001b[0m\u001b[1;33m.\u001b[0m\u001b[0mstart_filter\u001b[0m\u001b[1;33m(\u001b[0m\u001b[1;33m)\u001b[0m\u001b[1;33m\u001b[0m\u001b[1;33m\u001b[0m\u001b[0m\n\u001b[0;32m     37\u001b[0m \u001b[1;33m\u001b[0m\u001b[0m\n\u001b[1;32m---> 38\u001b[1;33m             \u001b[1;32mreturn\u001b[0m \u001b[0mdraw\u001b[0m\u001b[1;33m(\u001b[0m\u001b[0martist\u001b[0m\u001b[1;33m,\u001b[0m \u001b[0mrenderer\u001b[0m\u001b[1;33m,\u001b[0m \u001b[1;33m*\u001b[0m\u001b[0margs\u001b[0m\u001b[1;33m,\u001b[0m \u001b[1;33m**\u001b[0m\u001b[0mkwargs\u001b[0m\u001b[1;33m)\u001b[0m\u001b[1;33m\u001b[0m\u001b[1;33m\u001b[0m\u001b[0m\n\u001b[0m\u001b[0;32m     39\u001b[0m         \u001b[1;32mfinally\u001b[0m\u001b[1;33m:\u001b[0m\u001b[1;33m\u001b[0m\u001b[1;33m\u001b[0m\u001b[0m\n\u001b[0;32m     40\u001b[0m             \u001b[1;32mif\u001b[0m \u001b[0martist\u001b[0m\u001b[1;33m.\u001b[0m\u001b[0mget_agg_filter\u001b[0m\u001b[1;33m(\u001b[0m\u001b[1;33m)\u001b[0m \u001b[1;32mis\u001b[0m \u001b[1;32mnot\u001b[0m \u001b[1;32mNone\u001b[0m\u001b[1;33m:\u001b[0m\u001b[1;33m\u001b[0m\u001b[1;33m\u001b[0m\u001b[0m\n",
      "\u001b[1;32m~\\Anaconda3\\lib\\site-packages\\matplotlib\\figure.py\u001b[0m in \u001b[0;36mdraw\u001b[1;34m(self, renderer)\u001b[0m\n\u001b[0;32m   1732\u001b[0m                     \u001b[1;31m# ValueError can occur when resizing a window.\u001b[0m\u001b[1;33m\u001b[0m\u001b[1;33m\u001b[0m\u001b[1;33m\u001b[0m\u001b[0m\n\u001b[0;32m   1733\u001b[0m \u001b[1;33m\u001b[0m\u001b[0m\n\u001b[1;32m-> 1734\u001b[1;33m             \u001b[0mself\u001b[0m\u001b[1;33m.\u001b[0m\u001b[0mpatch\u001b[0m\u001b[1;33m.\u001b[0m\u001b[0mdraw\u001b[0m\u001b[1;33m(\u001b[0m\u001b[0mrenderer\u001b[0m\u001b[1;33m)\u001b[0m\u001b[1;33m\u001b[0m\u001b[1;33m\u001b[0m\u001b[0m\n\u001b[0m\u001b[0;32m   1735\u001b[0m             mimage._draw_list_compositing_images(\n\u001b[0;32m   1736\u001b[0m                 renderer, self, artists, self.suppressComposite)\n",
      "\u001b[1;32m~\\Anaconda3\\lib\\site-packages\\matplotlib\\artist.py\u001b[0m in \u001b[0;36mdraw_wrapper\u001b[1;34m(artist, renderer, *args, **kwargs)\u001b[0m\n\u001b[0;32m     36\u001b[0m                 \u001b[0mrenderer\u001b[0m\u001b[1;33m.\u001b[0m\u001b[0mstart_filter\u001b[0m\u001b[1;33m(\u001b[0m\u001b[1;33m)\u001b[0m\u001b[1;33m\u001b[0m\u001b[1;33m\u001b[0m\u001b[0m\n\u001b[0;32m     37\u001b[0m \u001b[1;33m\u001b[0m\u001b[0m\n\u001b[1;32m---> 38\u001b[1;33m             \u001b[1;32mreturn\u001b[0m \u001b[0mdraw\u001b[0m\u001b[1;33m(\u001b[0m\u001b[0martist\u001b[0m\u001b[1;33m,\u001b[0m \u001b[0mrenderer\u001b[0m\u001b[1;33m,\u001b[0m \u001b[1;33m*\u001b[0m\u001b[0margs\u001b[0m\u001b[1;33m,\u001b[0m \u001b[1;33m**\u001b[0m\u001b[0mkwargs\u001b[0m\u001b[1;33m)\u001b[0m\u001b[1;33m\u001b[0m\u001b[1;33m\u001b[0m\u001b[0m\n\u001b[0m\u001b[0;32m     39\u001b[0m         \u001b[1;32mfinally\u001b[0m\u001b[1;33m:\u001b[0m\u001b[1;33m\u001b[0m\u001b[1;33m\u001b[0m\u001b[0m\n\u001b[0;32m     40\u001b[0m             \u001b[1;32mif\u001b[0m \u001b[0martist\u001b[0m\u001b[1;33m.\u001b[0m\u001b[0mget_agg_filter\u001b[0m\u001b[1;33m(\u001b[0m\u001b[1;33m)\u001b[0m \u001b[1;32mis\u001b[0m \u001b[1;32mnot\u001b[0m \u001b[1;32mNone\u001b[0m\u001b[1;33m:\u001b[0m\u001b[1;33m\u001b[0m\u001b[1;33m\u001b[0m\u001b[0m\n",
      "\u001b[1;32m~\\Anaconda3\\lib\\site-packages\\matplotlib\\patches.py\u001b[0m in \u001b[0;36mdraw\u001b[1;34m(self, renderer)\u001b[0m\n\u001b[0;32m    595\u001b[0m             \u001b[0mtransform\u001b[0m \u001b[1;33m=\u001b[0m \u001b[0mself\u001b[0m\u001b[1;33m.\u001b[0m\u001b[0mget_transform\u001b[0m\u001b[1;33m(\u001b[0m\u001b[1;33m)\u001b[0m\u001b[1;33m\u001b[0m\u001b[1;33m\u001b[0m\u001b[0m\n\u001b[0;32m    596\u001b[0m             \u001b[0mtpath\u001b[0m \u001b[1;33m=\u001b[0m \u001b[0mtransform\u001b[0m\u001b[1;33m.\u001b[0m\u001b[0mtransform_path_non_affine\u001b[0m\u001b[1;33m(\u001b[0m\u001b[0mpath\u001b[0m\u001b[1;33m)\u001b[0m\u001b[1;33m\u001b[0m\u001b[1;33m\u001b[0m\u001b[0m\n\u001b[1;32m--> 597\u001b[1;33m             \u001b[0maffine\u001b[0m \u001b[1;33m=\u001b[0m \u001b[0mtransform\u001b[0m\u001b[1;33m.\u001b[0m\u001b[0mget_affine\u001b[0m\u001b[1;33m(\u001b[0m\u001b[1;33m)\u001b[0m\u001b[1;33m\u001b[0m\u001b[1;33m\u001b[0m\u001b[0m\n\u001b[0m\u001b[0;32m    598\u001b[0m             draw_path(tpath, affine,\n\u001b[0;32m    599\u001b[0m                       \u001b[1;31m# Work around a bug in the PDF and SVG renderers, which\u001b[0m\u001b[1;33m\u001b[0m\u001b[1;33m\u001b[0m\u001b[1;33m\u001b[0m\u001b[0m\n",
      "\u001b[1;32m~\\Anaconda3\\lib\\site-packages\\matplotlib\\transforms.py\u001b[0m in \u001b[0;36mget_affine\u001b[1;34m(self)\u001b[0m\n\u001b[0;32m   2390\u001b[0m             \u001b[1;32mreturn\u001b[0m \u001b[0mself\u001b[0m\u001b[1;33m.\u001b[0m\u001b[0m_b\u001b[0m\u001b[1;33m.\u001b[0m\u001b[0mget_affine\u001b[0m\u001b[1;33m(\u001b[0m\u001b[1;33m)\u001b[0m\u001b[1;33m\u001b[0m\u001b[1;33m\u001b[0m\u001b[0m\n\u001b[0;32m   2391\u001b[0m         \u001b[1;32melse\u001b[0m\u001b[1;33m:\u001b[0m\u001b[1;33m\u001b[0m\u001b[1;33m\u001b[0m\u001b[0m\n\u001b[1;32m-> 2392\u001b[1;33m             return Affine2D(np.dot(self._b.get_affine().get_matrix(),\n\u001b[0m\u001b[0;32m   2393\u001b[0m                                 self._a.get_affine().get_matrix()))\n\u001b[0;32m   2394\u001b[0m \u001b[1;33m\u001b[0m\u001b[0m\n",
      "\u001b[1;32m<__array_function__ internals>\u001b[0m in \u001b[0;36mdot\u001b[1;34m(*args, **kwargs)\u001b[0m\n",
      "\u001b[1;31mKeyboardInterrupt\u001b[0m: "
     ]
    }
   ],
   "source": [
    "K_damp = 1\n",
    "n = 5\n",
    "deltax = 1\n",
    "deltat = 0.1\n",
    "eta = 1\n",
    "N = pow(2,n)\n",
    "t = 0.5*N*deltax/deltat # light crossing time\n",
    "#t10 = t/10 # 1/10 of the ligth crossing time\n",
    "vel = np.zeros((N,N))\n",
    "mu, sigma = 0, 0.1 # mean and standard deviation\n",
    "omega = 5\n",
    "\n",
    "A1 = np.random.normal(mu, sigma, size=(N, N))\n",
    "A2 = np.random.normal(mu,sigma,size=(N,N))\n",
    "#A = np.random.randn(N, 2*N).view(np.complex128)   \n",
    "\n",
    "A1,A2 = wolff(N,t,A1,A2,vel,omega,eta,deltax,deltat,K_damp)"
   ]
  },
  {
   "cell_type": "code",
   "execution_count": null,
   "metadata": {},
   "outputs": [],
   "source": []
  },
  {
   "cell_type": "code",
   "execution_count": 5,
   "metadata": {},
   "outputs": [
    {
     "data": {
      "text/plain": [
       "array([[0., 0., 0., 0., 0., 0., 0., 0., 0., 0.],\n",
       "       [0., 0., 0., 0., 0., 0., 0., 0., 0., 0.],\n",
       "       [0., 0., 0., 0., 0., 0., 0., 0., 0., 0.],\n",
       "       [0., 0., 0., 0., 0., 0., 0., 0., 0., 0.],\n",
       "       [0., 0., 0., 0., 0., 0., 0., 0., 0., 0.],\n",
       "       [0., 0., 0., 0., 0., 0., 0., 0., 0., 0.],\n",
       "       [0., 0., 0., 0., 0., 0., 0., 0., 0., 0.],\n",
       "       [0., 0., 0., 0., 0., 0., 0., 0., 0., 0.],\n",
       "       [0., 0., 0., 0., 0., 0., 0., 0., 0., 0.],\n",
       "       [0., 0., 0., 0., 0., 0., 0., 0., 0., 0.]])"
      ]
     },
     "execution_count": 5,
     "metadata": {},
     "output_type": "execute_result"
    }
   ],
   "source": [
    "Laplacian(np.zeros((10,10)),1,0.1)"
   ]
  }
 ],
 "metadata": {
  "kernelspec": {
   "display_name": "Python 3",
   "language": "python",
   "name": "python3"
  },
  "language_info": {
   "codemirror_mode": {
    "name": "ipython",
    "version": 3
   },
   "file_extension": ".py",
   "mimetype": "text/x-python",
   "name": "python",
   "nbconvert_exporter": "python",
   "pygments_lexer": "ipython3",
   "version": "3.8.3"
  }
 },
 "nbformat": 4,
 "nbformat_minor": 4
}
